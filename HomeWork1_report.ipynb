{
 "cells": [
  {
   "cell_type": "markdown",
   "id": "e29b27d4",
   "metadata": {},
   "source": [
    "# Music Information Retrival\n",
    "\n",
    "## HomeWork1\n",
    "\n",
    "110065532 曾天裕"
   ]
  },
  {
   "cell_type": "markdown",
   "id": "ca0fc1d1",
   "metadata": {},
   "source": [
    "### Q1\n",
    "\n",
    "為了程式的可擴充性和可讀性，我將資料的處理分成數個步驟。每個步驟結束都會儲存資料。\n",
    "\n",
    "這些步驟分別是：chromagram，儲存Tonic_pitch，儲存predict。\n",
    "\n",
    "chroma依照不同chroma類別儲存，為numpy.ndarray。\n",
    "\n",
    "tonic_pitch為int，依照Alexander Lerch’s annotation，從A = 0開始。\n",
    "\n",
    "predict為預測結果，格式和tonic_pitch相同，只是有可能包含minor。\n",
    "\n",
    "預測結果的準確率則在HomeWork1_Q1.ipynb中，包含對準確率的分析和圖表。"
   ]
  },
  {
   "cell_type": "markdown",
   "id": "4345fee7",
   "metadata": {},
   "source": [
    "### Q2\n",
    "\n",
    "Q2的程式大致上和Q1相同，只是資料集多了MIDI type。MIDI type可以直接建立成chromagram，因此在程式的資料結構上有所不同。\n",
    "\n",
    "對Q2結果的分析在HomeWork1_Q2.ipynb之中。"
   ]
  },
  {
   "cell_type": "code",
   "execution_count": null,
   "id": "bbe397a6",
   "metadata": {},
   "outputs": [],
   "source": []
  }
 ],
 "metadata": {
  "kernelspec": {
   "display_name": "Python 3 (ipykernel)",
   "language": "python",
   "name": "python3"
  },
  "language_info": {
   "codemirror_mode": {
    "name": "ipython",
    "version": 3
   },
   "file_extension": ".py",
   "mimetype": "text/x-python",
   "name": "python",
   "nbconvert_exporter": "python",
   "pygments_lexer": "ipython3",
   "version": "3.8.12"
  }
 },
 "nbformat": 4,
 "nbformat_minor": 5
}
