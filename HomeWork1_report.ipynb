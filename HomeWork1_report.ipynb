{
 "cells": [
  {
   "cell_type": "markdown",
   "id": "e29b27d4",
   "metadata": {},
   "source": [
    "# Music Information Retrival\n",
    "\n",
    "## HomeWork1\n",
    "\n",
    "110065532 曾天裕"
   ]
  },
  {
   "cell_type": "markdown",
   "id": "ca0fc1d1",
   "metadata": {},
   "source": [
    "### Q1\n",
    "\n",
    "為了程式的可擴充性和可讀性，我將資料的處理分成數個步驟。每個步驟結束都會儲存在result/資料夾底下。\n",
    "\n",
    "這些步驟分別是：chromagram，儲存Tonic_pitch，儲存predict。\n",
    "\n",
    "chroma依照不同chroma類別儲存，為numpy.ndarray。\n",
    "\n",
    "tonic_pitch為int，依照Alexander Lerch’s annotation，從A = 0開始。\n",
    "\n",
    "predict為預測結果，格式和tonic_pitch相同，只是有可能包含minor。\n",
    "\n",
    "預測結果的準確率則在HomeWork1_Q1.ipynb中，包含對準確率的分析和圖表。"
   ]
  },
  {
   "cell_type": "markdown",
   "id": "4345fee7",
   "metadata": {},
   "source": [
    "### Q2\n",
    "\n",
    "Q2的程式大致上和Q1相同，只是資料集多了MIDI type。MIDI type可以直接建立成chromagram，因此在程式的資料結構上有所不同。\n",
    "\n",
    "預測結果存在result/SWD/predict之中。\n",
    "\n",
    "對Q2結果的分析在HomeWork1_Q2-Q5.ipynb之中。"
   ]
  },
  {
   "cell_type": "markdown",
   "id": "0e825f3c",
   "metadata": {},
   "source": [
    "### Q4\n",
    "\n",
    "對於Local key prediction，我採用下列方式：chroma為每0.1秒一個frame。每一個frame的mean pooling為前15秒和後15秒，總共三十秒的mean pooling。在這裡遇到一個問題，那就是前15秒和最後15秒該如何處理？*因為歌曲的開頭的key由之後的旋律決定，我並沒有採用padding的方式*。前15秒的key由前30秒決定，最後15秒的key則由最後30秒決定。\n",
    "\n",
    "預測結果存在result/SWD/local_predict之中。\n",
    "\n",
    "對Q4結果的分析在HomeWork1_Q2-Q5.ipynb之中。"
   ]
  },
  {
   "cell_type": "markdown",
   "id": "ccbbceb7",
   "metadata": {},
   "source": [
    "### Q5\n",
    "\n",
    "我先將local key prediction轉換成和annotations相同格式的csv檔案去處理它，然後使用mir_eval.io.load_labeled_intervals()讀取，並且使用underseg(), seg(), overseg()這三個方法去判斷其和ground truth比較的segmantation score。\n",
    "\n",
    "對Q5結果的分析在HomeWork1_Q5.ipynb之中。"
   ]
  },
  {
   "cell_type": "markdown",
   "id": "7c6dc080",
   "metadata": {},
   "source": [
    "## 結論\n",
    "\n",
    "以genres而言，Rock和Country是最好預測的，Jazz、Blues、Hip-Hop則是最不好預測global key的。\n",
    "以templates而言，harmonic template的表現普遍是最好的。\n",
    "以versions而言，FI66和FI80不管在global key還是local key的預測效果都比HU33和SC06來得佳。\n",
    "MIDI檔案預測global key的表現很糟糕，但是預測local key的效果比另外四種版本要來得佳。\n",
    "Weighted score並不會超出raw score太多，代表演算法如果預測tonal key失敗，它得出的結果和tonal key多半關係也不大。"
   ]
  }
 ],
 "metadata": {
  "kernelspec": {
   "display_name": "Python 3 (ipykernel)",
   "language": "python",
   "name": "python3"
  },
  "language_info": {
   "codemirror_mode": {
    "name": "ipython",
    "version": 3
   },
   "file_extension": ".py",
   "mimetype": "text/x-python",
   "name": "python",
   "nbconvert_exporter": "python",
   "pygments_lexer": "ipython3",
   "version": "3.8.12"
  }
 },
 "nbformat": 4,
 "nbformat_minor": 5
}
