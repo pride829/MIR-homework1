{
 "cells": [
  {
   "cell_type": "code",
   "execution_count": 21,
   "id": "85eeca12",
   "metadata": {},
   "outputs": [],
   "source": [
    "import os\n",
    "\n",
    "versions = ['HU33', 'SC06', 'FI66', 'FI80']\n",
    "chroma_type = ['stft', 'cq', 'cens']\n",
    "\n",
    "template_type = ['binary', 'ks', 'harmonic']\n",
    "\n",
    "key2num = {\n",
    "    \"A:maj\": 0, \"A#:maj\": 1, \"Bb:maj\": 1, \"B:maj\": 2,\n",
    "    \"C:maj\": 3, \"C#:maj\": 4, \"Db:maj\": 4, \"D:maj\": 5, \"D#:maj\": 6, \"Eb:maj\": 6, \n",
    "    \"E:maj\": 7, \"F:maj\": 8, \"F#:maj\": 9, \"G:maj\": 10, \"G#:maj\": 11, \"Ab:maj\": 11,\n",
    "    \"A:min\": 12, \"A#:min\": 13, \"Bb:min\": 13, \"B:min\": 14,\n",
    "    \"C:min\": 15, \"C#:min\": 16, \"Db:min\": 16, \"D:min\": 17, \"D#:min\": 18, \"Eb:min\": 18, \n",
    "    # There is D#:min and Eb:min, This could be a problem when finding key\n",
    "    \"E:min\": 19, \"F:min\": 20, \"F#:min\": 21, \"G:min\": 22, \"G#:min\": 23, \"Ab:min\": 23,\n",
    "    }\n",
    "\n",
    "num2key = {\n",
    "    0: \"A:maj\", 1: \"A#:maj\", 2: \"B:maj\", 3: \"C:maj\", 4: \"C#:maj\", 5: \"D:maj\", 6: \"D#:maj\",\n",
    "    7: \"E:maj\", 8:\"F:maj\", 9: \"F#maj\", 10: \"G:maj\", 11: \"G#:maj\", \n",
    "    12: \"A:min\", 13: \"A#:min\", 14: \"B:min\", 15: \"C:min\", 16: \"C#:min\", 17: \"D:min\", 18: \"D#min\",\n",
    "    19: \"E:min\", 20: \"F:min\", 21: \"F#:min\", 22: \"G:min\", 23: \"G#:min\"\n",
    "}"
   ]
  },
  {
   "cell_type": "code",
   "execution_count": 17,
   "id": "d8d38505",
   "metadata": {},
   "outputs": [],
   "source": [
    "predict = []\n",
    "\n",
    "key_path = \"result/SWD/local_predict/FI66/1/cens/binary.txt\"\n",
    "with open(key_path, mode='r') as f:\n",
    "    \n",
    "    \n",
    "    pre_frame_i = 10\n",
    "    frame_i = 0\n",
    "\n",
    "    pre_key = int(f.readline())\n",
    "\n",
    "    while True:\n",
    "        # Parse the string\n",
    "        \n",
    "        line = f.readline()\n",
    "        if not line:\n",
    "            break\n",
    "        \n",
    "        if frame_i < 10:\n",
    "            frame_i += 1\n",
    "            continue\n",
    "        \n",
    "        \n",
    "        key = int(line)\n",
    "        \n",
    "        if key != pre_key:\n",
    "            \n",
    "            predict.append([pre_frame_i, frame_i, pre_key])\n",
    "            pre_key = key\n",
    "            pre_frame_i = frame_i\n",
    "        \n",
    "        frame_i += 1\n",
    "    predict.append([pre_frame_i, frame_i, pre_key])"
   ]
  },
  {
   "cell_type": "code",
   "execution_count": 18,
   "id": "c8ab2d43",
   "metadata": {},
   "outputs": [
    {
     "data": {
      "text/plain": [
       "[[10, 311, 15],\n",
       " [311, 549, 6],\n",
       " [549, 1048, 15],\n",
       " [1048, 1334, 6],\n",
       " [1334, 1834, 15],\n",
       " [1834, 1966, 6],\n",
       " [1966, 2439, 15],\n",
       " [2439, 3044, 3],\n",
       " [3044, 3343, 22]]"
      ]
     },
     "execution_count": 18,
     "metadata": {},
     "output_type": "execute_result"
    }
   ],
   "source": [
    "predict"
   ]
  },
  {
   "cell_type": "code",
   "execution_count": 24,
   "id": "edd462a1",
   "metadata": {},
   "outputs": [],
   "source": [
    "key_path = \"result/SWD/local_predict_csv/FI66/1/cens/binary.csv\"\n",
    "os.makedirs(os.path.dirname(key_path), exist_ok=True)\n",
    "with open(key_path, mode='w') as f:\n",
    "    f.write('start;end;key\\n')\n",
    "    for p in predict:\n",
    "        key = num2key[p[2]]\n",
    "        f.write(str(p[0]/10) + ';' + str(p[1]/10) + ';\"' + str(key) + '\"\\n')\n",
    "    "
   ]
  },
  {
   "cell_type": "code",
   "execution_count": null,
   "id": "4e62931e",
   "metadata": {},
   "outputs": [],
   "source": []
  }
 ],
 "metadata": {
  "kernelspec": {
   "display_name": "Python 3 (ipykernel)",
   "language": "python",
   "name": "python3"
  },
  "language_info": {
   "codemirror_mode": {
    "name": "ipython",
    "version": 3
   },
   "file_extension": ".py",
   "mimetype": "text/x-python",
   "name": "python",
   "nbconvert_exporter": "python",
   "pygments_lexer": "ipython3",
   "version": "3.8.12"
  }
 },
 "nbformat": 4,
 "nbformat_minor": 5
}
