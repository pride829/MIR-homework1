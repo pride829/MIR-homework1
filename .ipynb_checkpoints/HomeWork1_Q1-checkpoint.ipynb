{
 "cells": [
  {
   "cell_type": "code",
   "execution_count": 1,
   "id": "401c452f",
   "metadata": {},
   "outputs": [],
   "source": [
    "import librosa\n",
    "import librosa.display\n",
    "import numpy as np\n",
    "import matplotlib.pyplot as plt\n",
    "from scipy import stats\n",
    "import os\n",
    "\n",
    "genres = ['disco', 'reggae', 'pop', 'rock',\n",
    "          'metal', 'jazz', 'blues', 'hiphop', 'country']\n",
    "\n",
    "chroma_type = ['stft', 'cq', 'cens']\n",
    "# Naming mistake, cq should be cqt\n",
    "\n",
    "binary_templates = [[1, 0, 1, 0, 1, 1, 0, 1, 0, 1, 0, 1], [1, 0, 1, 1, 0, 1, 0, 1, 1, 0, 1, 0]]\n",
    "\n",
    "ks_templates = [[6.35, 2.23, 3.48, 2.33, 4.38, 4.09, 2.52, 5.19, 2.39, 3.66, 2.29, 2.88], \n",
    "                [6.33, 2.68, 3.52, 5.38, 2.6, 3.53, 2.54, 4.75, 3.98, 2.69, 3.34, 3.17]]\n",
    "\n",
    "# Tested with an irrelevent vector, perform a differnt result than binary_templates\n",
    "#ks_templates = [[1, 0, 0, 0, 0, 0, 0, 0, 0, 0, 0, 0], [0, 0, 0, 0, 0, 0, 0, 0, 0, 0, 0, 1]]\n",
    "\n",
    "alpha = 0.9\n",
    "\n",
    "uc = [1 + alpha + alpha**3 + alpha**7,\n",
    "        0,\n",
    "        0,\n",
    "        0,\n",
    "        alpha**4,\n",
    "        0,\n",
    "        0,\n",
    "        alpha**2+alpha**5,\n",
    "        0,\n",
    "        0,\n",
    "        alpha**6,\n",
    "        0]\n",
    "\n",
    "#[1 0 1 1 0 1 0 1 1 0 1 0] C minor\n",
    "#[C C# D D# E F F# G G# A A# B]\n",
    "#[1 0  1 0  1 1 0  1 0  1 0  1] C major\n",
    "\n",
    "#C Major key is 𝒖𝑪 + 𝒖𝑫 + 𝒖𝑬 + 𝒖𝑭 + 𝒖𝑮 + 𝒖𝑨 + 𝒖B\n",
    "\n",
    "u = [None]*12\n",
    "for i in range(12):\n",
    "    # 0 means ua, 1 means ua#, ...\n",
    "    u[i] = np.roll(uc, i-3)\n",
    "\n",
    "harmonic_major_template = [0] * 12\n",
    "harmonic_minor_template = [0] * 12\n",
    "\n",
    "for i in range(12):\n",
    "    if binary_templates[0][i] == 1:\n",
    "        harmonic_major_template += u[(i+3)%12]\n",
    "    if binary_templates[1][i] == 1:\n",
    "        harmonic_minor_template += u[(i+3)%12]    \n",
    "\n",
    "harmonic_templates = [harmonic_major_template, harmonic_minor_template]\n",
    "    "
   ]
  },
  {
   "cell_type": "code",
   "execution_count": 2,
   "id": "40175877",
   "metadata": {},
   "outputs": [],
   "source": [
    "def get_GTZAN_keys(genres):\n",
    "    \"\"\"\n",
    "    Get keys for each song in each genres in GTZAN dataset. The path of the set is fixed.\n",
    "    \n",
    "    :param: None\n",
    "    :return: A dict that contains the true key of each genres.\n",
    "    \n",
    "    Example:\n",
    "        key0 = d['disco'][0]\n",
    "        # key0 == 12\n",
    "    \"\"\"\n",
    "    \n",
    "    d = {}\n",
    "    for g in genres:\n",
    "        \n",
    "        genres_key_path = \"data/GTZAN/key/\" + g + \"/\" + g + \".\"\n",
    "        \n",
    "        # Initial the dict\n",
    "        with open(genres_key_path + \"00000.lerch.txt\") as f:\n",
    "            d[g] = [f.readline().rstrip()]\n",
    "        \n",
    "        for i in range(1, 100): \n",
    "            # 100 is the numbers songs of each genres'data \n",
    "            \n",
    "            with open(\"data/GTZAN/key/\" + g + \"/\" + g + \".\" + str(i).zfill(5) + \".lerch.txt\") as f:\n",
    "                # 5 is the length of numbers in each file name\n",
    "                d[g] += (f.readline().rstrip())\n",
    "    return d"
   ]
  },
  {
   "cell_type": "code",
   "execution_count": 3,
   "id": "e5560908",
   "metadata": {},
   "outputs": [],
   "source": [
    "GTZAN_keys = get_GTZAN_keys(genres)"
   ]
  },
  {
   "cell_type": "code",
   "execution_count": 4,
   "id": "221b0606",
   "metadata": {},
   "outputs": [],
   "source": [
    "def create_GTZAN_Chroma(genres):\n",
    "    \"\"\"\n",
    "    Create chroma file from wav and save them to result/GTZAN/\n",
    "    \n",
    "    :param: genres(list): The list of genres. \n",
    "    :return: None\n",
    "    \"\"\"\n",
    "    \n",
    "    if(not os.path.isdir('result/GTZAN/chroma')):\n",
    "        for g in genres:\n",
    "            genres_wav_path = \"data/GTZAN/wav/\" + g + \"/\" + g + \".\"\n",
    "\n",
    "            for i in range(100):\n",
    "                # 100 is the numbers songs of each genres'data \n",
    "\n",
    "                filename = genres_wav_path + str(i).zfill(5) + \".wav\"\n",
    "                y, sr = librosa.load(filename)\n",
    "\n",
    "                # STFT chromagram\n",
    "                chroma_stft = librosa.feature.chroma_stft(\n",
    "                    y=y, sr=sr, n_chroma=12, n_fft=4096)\n",
    "                # Why is n_fft=4096?\n",
    "                \n",
    "                # CQT chromagram\n",
    "                chroma_cq = librosa.feature.chroma_cqt(y=y, sr=sr)\n",
    "                \n",
    "                # Chroma Energy Normalized chromagram\n",
    "                chroma_cens = librosa.feature.chroma_cens(y=y, sr=sr)\n",
    "\n",
    "                \n",
    "                # Create new files for three types of chroma\n",
    "                \n",
    "                filename = \"result/GTZAN/chroma\" + g + \"/stft/\" + g + \".\" + str(i).zfill(5) + \".chroma_stft.txt\"\n",
    "                os.makedirs(os.path.dirname(filename), exist_ok=True)\n",
    "                with open(filename, mode='w') as f:\n",
    "                    np.savetxt(filename, chroma_stft)\n",
    "                    \n",
    "                filename = \"result/GTZAN/chroma\" + g + \"/cq/\" + g + \".\" + str(i).zfill(5) + \".chroma_cq.txt\"\n",
    "                os.makedirs(os.path.dirname(filename), exist_ok=True)\n",
    "                with open(filename, mode='w') as f:\n",
    "                    np.savetxt(filename, chroma_cq)\n",
    "                    \n",
    "                filename = \"result/GTZAN/chroma\" + g + \"/cens/\" + g + \".\" + str(i).zfill(5) + \".chroma_cens.txt\"\n",
    "                os.makedirs(os.path.dirname(filename), exist_ok=True)\n",
    "                with open(filename, mode='w') as f:\n",
    "                    np.savetxt(filename, chroma_cens)\n",
    "                    \n",
    "    return"
   ]
  },
  {
   "cell_type": "code",
   "execution_count": 5,
   "id": "9a7f4665",
   "metadata": {},
   "outputs": [],
   "source": [
    "create_GTZAN_Chroma(genres)"
   ]
  },
  {
   "cell_type": "code",
   "execution_count": 6,
   "id": "daaffac4",
   "metadata": {},
   "outputs": [],
   "source": [
    "def get_GTZAN_Chroma(genres:str, chroma_type:str, index:int):\n",
    "    \"\"\"\n",
    "    Get chroma from txt\n",
    "    \n",
    "    :return: (ndarray)\n",
    "    \"\"\"\n",
    "    filename = \"result/GTZAN/chroma/\" + genres + \"/\" + chroma_type + \"/\" + genres + \".\" + str(index).zfill(5) + \".chroma_\" + chroma_type + \".txt\"\n",
    "    with open(filename, mode='r') as f:\n",
    "        return np.loadtxt(filename)"
   ]
  },
  {
   "cell_type": "code",
   "execution_count": 7,
   "id": "40658f6d",
   "metadata": {},
   "outputs": [],
   "source": [
    "c = get_GTZAN_Chroma(\"blues\", \"cens\", 3)"
   ]
  },
  {
   "cell_type": "code",
   "execution_count": 8,
   "id": "6f8f5c00",
   "metadata": {},
   "outputs": [],
   "source": [
    "def create_GTZAN_tonic_pitch(genres:list, chroma_type:list):\n",
    "    \"\"\"\n",
    "    Create tonic pitch list from chroma files if not already exsists.\n",
    "    Start from A == 0\n",
    "    \n",
    "    \"\"\"\n",
    "    if(not os.path.isdir('result/GTZAN/tonic_pitch')):\n",
    "        tonic_pitch_path = \"result/GTZAN/tonic_pitch/\"\n",
    "        \n",
    "        for g in genres:\n",
    "            tonic_pitch_genres_path = tonic_pitch_path + g + \"/\"\n",
    "            \n",
    "            for c in chroma_type:\n",
    "                \n",
    "                filename = tonic_pitch_genres_path + c + \".txt\"\n",
    "                os.makedirs(os.path.dirname(filename), exist_ok=True)\n",
    "                with open(filename, mode='w') as f:\n",
    "                    \n",
    "                    for i in range(100):\n",
    "                    # 100 is the numbers of songs of each genres'data\n",
    "                        chroma = get_GTZAN_Chroma(g, c, i)\n",
    "                        mean_pooling_chroma = chroma.sum(axis=1)\n",
    "                        tonic_pitch = (np.argmax(mean_pooling_chroma)+3)%12 # Shift to A=0\n",
    "                        f.write(str(tonic_pitch) + '\\n')\n",
    "    return"
   ]
  },
  {
   "cell_type": "code",
   "execution_count": 9,
   "id": "b7932f56",
   "metadata": {},
   "outputs": [],
   "source": [
    "create_GTZAN_tonic_pitch(genres, chroma_type)"
   ]
  },
  {
   "cell_type": "code",
   "execution_count": 10,
   "id": "a9a60ca0",
   "metadata": {},
   "outputs": [],
   "source": [
    "def get_GTZAN_tonic_pitch(genres:list, chroma_type:list):\n",
    "    \"\"\"\n",
    "    :Return: pitches(dict): \n",
    "    \"\"\"\n",
    "    \n",
    "    d = {}\n",
    "    tonic_pitch_path = \"result/GTZAN/tonic_pitch/\"\n",
    "    \n",
    "    for g in genres:\n",
    "        tonic_pitch_genres_path = tonic_pitch_path + g + \"/\"\n",
    "        d[g] = {}\n",
    "        \n",
    "        for c in chroma_type:\n",
    "            filename = tonic_pitch_genres_path + c + \".txt\"\n",
    "    \n",
    "            with open(filename, mode='r+') as f:\n",
    "                d[g][c] = [int(f.readline().rstrip())]\n",
    "                \n",
    "                for i in range(1, 100):\n",
    "                    d[g][c].append(int(f.readline().rstrip()))\n",
    "    \n",
    "    return d"
   ]
  },
  {
   "cell_type": "code",
   "execution_count": 11,
   "id": "d06861b8",
   "metadata": {},
   "outputs": [
    {
     "data": {
      "text/plain": [
       "10"
      ]
     },
     "execution_count": 11,
     "metadata": {},
     "output_type": "execute_result"
    }
   ],
   "source": [
    "pitches = get_GTZAN_tonic_pitch(genres, chroma_type)\n",
    "pitches['blues']['cq'][0]"
   ]
  },
  {
   "cell_type": "code",
   "execution_count": 12,
   "id": "0a90c420",
   "metadata": {},
   "outputs": [],
   "source": [
    "def predict_GTZAN_key(chroma, major_template, minor_template, tonic_pitch: int):\n",
    "    \"\"\"\n",
    "    Tonic_pitch start with A\n",
    "    \n",
    "    \"\"\"\n",
    "    \n",
    "    shifted_major_template = np.roll(major_template, -3 + tonic_pitch)\n",
    "    shifted_minor_template = np.roll(minor_template, -3 + tonic_pitch)\n",
    "    # -3 becuase input tempalte tonic is C\n",
    "    \n",
    "    mean_pooling_chroma = chroma.sum(axis=1)\n",
    "    \n",
    "    major_pcc = stats.pearsonr(mean_pooling_chroma, shifted_major_template)[0]\n",
    "    minor_pcc = stats.pearsonr(mean_pooling_chroma, shifted_minor_template)[0]\n",
    "    \n",
    "    if major_pcc > minor_pcc:\n",
    "        return tonic_pitch # Major\n",
    "    else:\n",
    "        return tonic_pitch+12 # Minor\n",
    "    "
   ]
  },
  {
   "cell_type": "code",
   "execution_count": 13,
   "id": "ebb8b0f1",
   "metadata": {},
   "outputs": [
    {
     "data": {
      "text/plain": [
       "10"
      ]
     },
     "execution_count": 13,
     "metadata": {},
     "output_type": "execute_result"
    }
   ],
   "source": [
    "predict_GTZAN_key(get_GTZAN_Chroma('blues', 'cq', 0), \n",
    "                  binary_templates[0], \n",
    "                  binary_templates[1], \n",
    "                  pitches['blues']['cq'][0])"
   ]
  },
  {
   "cell_type": "code",
   "execution_count": 14,
   "id": "cf1df247",
   "metadata": {},
   "outputs": [],
   "source": [
    "def create_GTZAN_predict(genres:list, chroma_type:list, pitches:dict, binary_templates:list, ks_templates:list, harmonic_templates:list):\n",
    "    \n",
    "    if(not os.path.isdir('result/GTZAN/predict/')):\n",
    "        predict_path = \"result/GTZAN/predict/\"\n",
    "        \n",
    "        for g in genres:\n",
    "            predict_genres_path = predict_path + \"/\" + g + \"/\"\n",
    "        \n",
    "            for c in chroma_type:\n",
    "                predict_genres_chroma_path = predict_genres_path + \"/\" + c + \"/\"\n",
    "                \n",
    "                # Get binary_templates results\n",
    "                filename = predict_genres_chroma_path + \"binary_templates.txt\"\n",
    "                os.makedirs(os.path.dirname(filename), exist_ok=True)\n",
    "                with open(filename, mode='w') as f:\n",
    "                    for i in range(100):\n",
    "                        predict_key = predict_GTZAN_key(\n",
    "                        get_GTZAN_Chroma(g, c, i),\n",
    "                            binary_templates[0],\n",
    "                            binary_templates[1],\n",
    "                            pitches[g][c][i]\n",
    "                        )\n",
    "                        f.write(str(predict_key) + '\\n')\n",
    "                        \n",
    "                # Get ks_templates results\n",
    "                filename = predict_genres_chroma_path + \"ks_templates.txt\"\n",
    "                os.makedirs(os.path.dirname(filename), exist_ok=True)\n",
    "                with open(filename, mode='w') as f:\n",
    "                    for i in range(100):\n",
    "                        predict_key = predict_GTZAN_key(\n",
    "                        get_GTZAN_Chroma(g, c, i),\n",
    "                            ks_templates[0],\n",
    "                            ks_templates[1],\n",
    "                            pitches[g][c][i]\n",
    "                        )\n",
    "                        f.write(str(predict_key) + '\\n')\n",
    "                        \n",
    "                # Get harmonic_templates results\n",
    "                filename = predict_genres_chroma_path + \"harmonic_templates.txt\"\n",
    "                os.makedirs(os.path.dirname(filename), exist_ok=True)\n",
    "                with open(filename, mode='w') as f:\n",
    "                    for i in range(100):\n",
    "                        predict_key = predict_GTZAN_key(\n",
    "                        get_GTZAN_Chroma(g, c, i),\n",
    "                            harmonic_templates[0],\n",
    "                            harmonic_templates[1],\n",
    "                            pitches[g][c][i]\n",
    "                        )\n",
    "                        f.write(str(predict_key) + '\\n')"
   ]
  },
  {
   "cell_type": "code",
   "execution_count": 15,
   "id": "082ab1f3",
   "metadata": {},
   "outputs": [],
   "source": [
    "create_GTZAN_predict(genres, chroma_type, pitches, binary_templates, ks_templates, harmonic_templates)"
   ]
  },
  {
   "cell_type": "code",
   "execution_count": 16,
   "id": "03b54709",
   "metadata": {},
   "outputs": [],
   "source": [
    "def get_raw_acc(p, y):\n",
    "    \n",
    "    count = 0\n",
    "    for i in range(len(y)):\n",
    "        if p[i] == y[i]:\n",
    "            count += 1\n",
    "    return round(count / len(y), 5)\n",
    "    \n",
    "def get_weighted_acc(p, y):\n",
    "    \"\"\"\n",
    "    Refer to the weighted accuracy of Task 1 to see how weighting works.\n",
    "    \"\"\"\n",
    "    \n",
    "    score = 0\n",
    "    for i in range(len(y)):\n",
    "        if p[i] == y[i]:\n",
    "            score += 1\n",
    "        elif (p[i]+7)%12 == y[i]:\n",
    "            score += 0.5\n",
    "        elif p[i] < 12:\n",
    "            if p[i] + 9 == y[i]:\n",
    "                score += 0.3\n",
    "            elif p[i] + 12 == y[i]:\n",
    "                score += 0.2\n",
    "        elif p[i] >= 12:\n",
    "            if (p[i] + 3)%12 == y[i]:\n",
    "                score += 0.3\n",
    "            elif p[i] - 12 == y[i]:\n",
    "                score += 0.2\n",
    "    return round(score / len(y), 5)\n",
    "\n",
    "def create_GTZAN_acc(genres:list, chroma_type:list):\n",
    "    \n",
    "    if(not os.path.isdir('result/GTZAN/acc/')):\n",
    "        acc_path = \"result/GTZAN/acc/\"\n",
    "        predict_path = \"result/GTZAN/predict/\"\n",
    "        y_path = \"data/GTZAN/key/\"\n",
    "        \n",
    "        acc = {}\n",
    "        for g in genres:\n",
    "            acc_genres_path = acc_path + g + \".txt\"\n",
    "            predict_genres_path = predict_path + \"/\" + g + \"/\"\n",
    "            y_genres_path = y_path + \"/\" + g + \"/\"\n",
    "            \n",
    "            acc[g] = {}\n",
    "            \n",
    "            # Get ground truth\n",
    "            y = []\n",
    "            for i in range(100):\n",
    "                y_filename = y_genres_path + g + '.' + str(i).zfill(5) + \".lerch.txt\"\n",
    "                with open(y_filename, mode='r+') as f:\n",
    "                    y.append(int(f.readline().rstrip()))\n",
    "            \n",
    "            for c in chroma_type:\n",
    "                acc_genres_chroma_path = acc_genres_path + \"/\" + c + \"/\"\n",
    "                predict_genres_chroma_path = predict_genres_path + \"/\" + c + \"/\"\n",
    "                acc[g][c] = {}\n",
    "                \n",
    "                # Get binary_templates acc\n",
    "                acc[g][c][\"binary_templates\"] = {}\n",
    "                p_bt_filename = predict_genres_chroma_path + \"binary_templates.txt\"\n",
    "                p = []\n",
    "                with open(p_bt_filename, mode='r+') as f:\n",
    "                    for i in range(100):\n",
    "                        p.append(int(f.readline().rstrip()))\n",
    "                \n",
    "                # Raw and weighted acc\n",
    "                acc[g][c][\"binary_templates\"][\"raw\"] = get_raw_acc(p, y)\n",
    "                acc[g][c][\"binary_templates\"][\"weighted\"] = get_weighted_acc(p, y)\n",
    "                \n",
    "                \n",
    "                # Get ks_templates acc\n",
    "                acc[g][c][\"ks_templates\"] = {}\n",
    "                p_ks_filename = predict_genres_chroma_path + \"ks_templates.txt\"\n",
    "                p = []\n",
    "                with open(p_ks_filename, mode='r+') as f:\n",
    "                    for i in range(100):\n",
    "                        p.append(int(f.readline().rstrip()))\n",
    "                \n",
    "                # Raw and weighted acc\n",
    "                acc[g][c][\"ks_templates\"][\"raw\"] = get_raw_acc(p, y)\n",
    "                acc[g][c][\"ks_templates\"][\"weighted\"] = get_weighted_acc(p, y)\n",
    "                \n",
    "                \n",
    "                \n",
    "                # Get harmonic_templates acc\n",
    "                acc[g][c][\"harmonic_templates\"] = {}\n",
    "                p_hm_filename = predict_genres_chroma_path + \"harmonic_templates.txt\"\n",
    "                p = []\n",
    "                with open(p_hm_filename, mode='r+') as f:\n",
    "                    for i in range(100):\n",
    "                        p.append(int(f.readline().rstrip()))\n",
    "                \n",
    "                # Raw and weighted acc\n",
    "                acc[g][c][\"harmonic_templates\"][\"raw\"] = get_raw_acc(p, y)\n",
    "                acc[g][c][\"harmonic_templates\"][\"weighted\"] = get_weighted_acc(p, y)\n",
    "                \n",
    "        return acc"
   ]
  },
  {
   "cell_type": "code",
   "execution_count": 20,
   "id": "194fc4ed",
   "metadata": {},
   "outputs": [],
   "source": [
    "GTZAN_ans = create_GTZAN_acc(genres, chroma_type)"
   ]
  },
  {
   "cell_type": "code",
   "execution_count": 23,
   "id": "c9789ba5",
   "metadata": {},
   "outputs": [
    {
     "data": {
      "text/plain": [
       "{'raw': 0.34, 'weighted': 0.364}"
      ]
     },
     "execution_count": 23,
     "metadata": {},
     "output_type": "execute_result"
    }
   ],
   "source": []
  },
  {
   "cell_type": "code",
   "execution_count": 18,
   "id": "22397a91",
   "metadata": {},
   "outputs": [
    {
     "data": {
      "text/plain": [
       "{'disco': {'stft': {'binary_templates': {'raw': 0.34, 'weighted': 0.364},\n",
       "   'ks_templates': {'raw': 0.32, 'weighted': 0.348},\n",
       "   'harmonic_templates': {'raw': 0.37, 'weighted': 0.388}},\n",
       "  'cq': {'binary_templates': {'raw': 0.4, 'weighted': 0.425},\n",
       "   'ks_templates': {'raw': 0.36, 'weighted': 0.393},\n",
       "   'harmonic_templates': {'raw': 0.39, 'weighted': 0.417}},\n",
       "  'cens': {'binary_templates': {'raw': 0.35, 'weighted': 0.379},\n",
       "   'ks_templates': {'raw': 0.32, 'weighted': 0.355},\n",
       "   'harmonic_templates': {'raw': 0.36, 'weighted': 0.387}}},\n",
       " 'reggae': {'stft': {'binary_templates': {'raw': 0.42, 'weighted': 0.43},\n",
       "   'ks_templates': {'raw': 0.41, 'weighted': 0.422},\n",
       "   'harmonic_templates': {'raw': 0.41, 'weighted': 0.422}},\n",
       "  'cq': {'binary_templates': {'raw': 0.32, 'weighted': 0.346},\n",
       "   'ks_templates': {'raw': 0.38, 'weighted': 0.394},\n",
       "   'harmonic_templates': {'raw': 0.41, 'weighted': 0.418}},\n",
       "  'cens': {'binary_templates': {'raw': 0.31, 'weighted': 0.337},\n",
       "   'ks_templates': {'raw': 0.37, 'weighted': 0.385},\n",
       "   'harmonic_templates': {'raw': 0.36, 'weighted': 0.377}}},\n",
       " 'pop': {'stft': {'binary_templates': {'raw': 0.36, 'weighted': 0.403},\n",
       "   'ks_templates': {'raw': 0.42, 'weighted': 0.451},\n",
       "   'harmonic_templates': {'raw': 0.42, 'weighted': 0.451}},\n",
       "  'cq': {'binary_templates': {'raw': 0.19, 'weighted': 0.263},\n",
       "   'ks_templates': {'raw': 0.29, 'weighted': 0.343},\n",
       "   'harmonic_templates': {'raw': 0.25, 'weighted': 0.311}},\n",
       "  'cens': {'binary_templates': {'raw': 0.21, 'weighted': 0.273},\n",
       "   'ks_templates': {'raw': 0.28, 'weighted': 0.329},\n",
       "   'harmonic_templates': {'raw': 0.23, 'weighted': 0.289}}},\n",
       " 'rock': {'stft': {'binary_templates': {'raw': 0.38, 'weighted': 0.432},\n",
       "   'ks_templates': {'raw': 0.36, 'weighted': 0.416},\n",
       "   'harmonic_templates': {'raw': 0.42, 'weighted': 0.464}},\n",
       "  'cq': {'binary_templates': {'raw': 0.42, 'weighted': 0.474},\n",
       "   'ks_templates': {'raw': 0.44, 'weighted': 0.49},\n",
       "   'harmonic_templates': {'raw': 0.44, 'weighted': 0.49}},\n",
       "  'cens': {'binary_templates': {'raw': 0.42, 'weighted': 0.473},\n",
       "   'ks_templates': {'raw': 0.4, 'weighted': 0.457},\n",
       "   'harmonic_templates': {'raw': 0.45, 'weighted': 0.497}}},\n",
       " 'metal': {'stft': {'binary_templates': {'raw': 0.23, 'weighted': 0.283},\n",
       "   'ks_templates': {'raw': 0.25, 'weighted': 0.299},\n",
       "   'harmonic_templates': {'raw': 0.3, 'weighted': 0.339}},\n",
       "  'cq': {'binary_templates': {'raw': 0.44, 'weighted': 0.487},\n",
       "   'ks_templates': {'raw': 0.42, 'weighted': 0.471},\n",
       "   'harmonic_templates': {'raw': 0.52, 'weighted': 0.551}},\n",
       "  'cens': {'binary_templates': {'raw': 0.44, 'weighted': 0.484},\n",
       "   'ks_templates': {'raw': 0.42, 'weighted': 0.468},\n",
       "   'harmonic_templates': {'raw': 0.48, 'weighted': 0.516}}},\n",
       " 'jazz': {'stft': {'binary_templates': {'raw': 0.14, 'weighted': 0.187},\n",
       "   'ks_templates': {'raw': 0.12, 'weighted': 0.171},\n",
       "   'harmonic_templates': {'raw': 0.15, 'weighted': 0.195}},\n",
       "  'cq': {'binary_templates': {'raw': 0.15, 'weighted': 0.194},\n",
       "   'ks_templates': {'raw': 0.17, 'weighted': 0.21},\n",
       "   'harmonic_templates': {'raw': 0.17, 'weighted': 0.21}},\n",
       "  'cens': {'binary_templates': {'raw': 0.17, 'weighted': 0.208},\n",
       "   'ks_templates': {'raw': 0.17, 'weighted': 0.208},\n",
       "   'harmonic_templates': {'raw': 0.18, 'weighted': 0.216}}},\n",
       " 'blues': {'stft': {'binary_templates': {'raw': 0.05, 'weighted': 0.154},\n",
       "   'ks_templates': {'raw': 0.12, 'weighted': 0.21},\n",
       "   'harmonic_templates': {'raw': 0.15, 'weighted': 0.231}},\n",
       "  'cq': {'binary_templates': {'raw': 0.13, 'weighted': 0.213},\n",
       "   'ks_templates': {'raw': 0.14, 'weighted': 0.218},\n",
       "   'harmonic_templates': {'raw': 0.24, 'weighted': 0.298}},\n",
       "  'cens': {'binary_templates': {'raw': 0.1, 'weighted': 0.185},\n",
       "   'ks_templates': {'raw': 0.11, 'weighted': 0.19},\n",
       "   'harmonic_templates': {'raw': 0.19, 'weighted': 0.254}}},\n",
       " 'hiphop': {'stft': {'binary_templates': {'raw': 0.1, 'weighted': 0.139},\n",
       "   'ks_templates': {'raw': 0.14, 'weighted': 0.165},\n",
       "   'harmonic_templates': {'raw': 0.12, 'weighted': 0.155}},\n",
       "  'cq': {'binary_templates': {'raw': 0.11, 'weighted': 0.154},\n",
       "   'ks_templates': {'raw': 0.16, 'weighted': 0.191},\n",
       "   'harmonic_templates': {'raw': 0.13, 'weighted': 0.167}},\n",
       "  'cens': {'binary_templates': {'raw': 0.13, 'weighted': 0.181},\n",
       "   'ks_templates': {'raw': 0.18, 'weighted': 0.212},\n",
       "   'harmonic_templates': {'raw': 0.17, 'weighted': 0.21}}},\n",
       " 'country': {'stft': {'binary_templates': {'raw': 0.31, 'weighted': 0.322},\n",
       "   'ks_templates': {'raw': 0.32, 'weighted': 0.33},\n",
       "   'harmonic_templates': {'raw': 0.33, 'weighted': 0.341}},\n",
       "  'cq': {'binary_templates': {'raw': 0.5, 'weighted': 0.526},\n",
       "   'ks_templates': {'raw': 0.51, 'weighted': 0.534},\n",
       "   'harmonic_templates': {'raw': 0.45, 'weighted': 0.486}},\n",
       "  'cens': {'binary_templates': {'raw': 0.48, 'weighted': 0.501},\n",
       "   'ks_templates': {'raw': 0.48, 'weighted': 0.501},\n",
       "   'harmonic_templates': {'raw': 0.46, 'weighted': 0.485}}}}"
      ]
     },
     "execution_count": 18,
     "metadata": {},
     "output_type": "execute_result"
    }
   ],
   "source": [
    "GTZAN_ans"
   ]
  },
  {
   "cell_type": "code",
   "execution_count": 73,
   "id": "2e591a61",
   "metadata": {},
   "outputs": [],
   "source": [
    "methods = [\"raw\", \"weighted\"]\n",
    "templates = [\"binary_templates\", \"ks_templates\", \"harmonic_templates\"]\n",
    "\n",
    "genres_score = {}\n",
    "genres_count = 3*3*2\n",
    "chroma_type_score = {}\n",
    "chroma_type_count = 9*3*2\n",
    "templates_score = {}\n",
    "templates_count = 9*3*2\n",
    "methods_score = {}\n",
    "methods_count = 9*3*3\n",
    "\n",
    "for g in genres:\n",
    "    for c in chroma_type:\n",
    "        for t in templates:\n",
    "            for m in methods:\n",
    "                score = float(GTZAN_ans[g][c][t][m])\n",
    "                \n",
    "                if g not in genres_score:\n",
    "                    genres_score[g] = score\n",
    "                else:\n",
    "                    genres_score[g] += score\n",
    "                \n",
    "                if c not in chroma_type_score:\n",
    "                    chroma_type_score[c] = score\n",
    "                else:\n",
    "                    chroma_type_score[c] += score\n",
    "                    \n",
    "                if t not in templates_score:\n",
    "                    templates_score[t] = score\n",
    "                else:\n",
    "                    templates_score[t] += score\n",
    "                    \n",
    "                if m not in methods_score:\n",
    "                    methods_score[m] = score\n",
    "                else:\n",
    "                    methods_score[m] += score"
   ]
  },
  {
   "cell_type": "code",
   "execution_count": 74,
   "id": "00913bec",
   "metadata": {},
   "outputs": [],
   "source": [
    "genres_score = {k: v/genres_count for k, v in genres_score.items()}\n",
    "chroma_type_score = {k: v/chroma_type_count for k, v in chroma_type_score.items()}\n",
    "templates_score = {k: v/templates_count for k, v in templates_score.items()}\n",
    "methods_score = {k: v/methods_count for k, v in methods_score.items()}"
   ]
  },
  {
   "cell_type": "code",
   "execution_count": 76,
   "id": "d81750fc",
   "metadata": {},
   "outputs": [
    {
     "data": {
      "text/plain": [
       "{'disco': 0.37033333333333324,\n",
       " 'reggae': 0.38449999999999995,\n",
       " 'pop': 0.32016666666666665,\n",
       " 'rock': 0.44016666666666665,\n",
       " 'metal': 0.411,\n",
       " 'jazz': 0.17883333333333334,\n",
       " 'blues': 0.17683333333333331,\n",
       " 'hiphop': 0.15633333333333335,\n",
       " 'country': 0.43700000000000006}"
      ]
     },
     "execution_count": 76,
     "metadata": {},
     "output_type": "execute_result"
    }
   ],
   "source": [
    "genres_score"
   ]
  },
  {
   "cell_type": "code",
   "execution_count": 83,
   "id": "793b3f37",
   "metadata": {},
   "outputs": [
    {
     "data": {
      "image/png": "[encoded data removed]",
      "text/plain": [
       "<Figure size 432x288 with 1 Axes>"
      ]
     },
     "metadata": {
      "needs_background": "light"
     },
     "output_type": "display_data"
    }
   ],
   "source": [
    "x, y = zip(*(genres_score.items()))\n",
    "\n",
    "plt.plot(x, y)\n",
    "plt.show()"
   ]
  },
  {
   "cell_type": "markdown",
   "id": "77719f2d",
   "metadata": {},
   "source": [
    "Rock and country music is the best of all music. Maybe because they tend to repeat their tonality pitch.\n",
    "\n",
    "Jazz, blues, and hip-hop have the worst performance. But it's still better than random guessing (about 1/24 = 0.04)"
   ]
  },
  {
   "cell_type": "code",
   "execution_count": 84,
   "id": "2608b80d",
   "metadata": {},
   "outputs": [
    {
     "data": {
      "text/plain": [
       "{'stft': 0.29577777777777775,\n",
       " 'cq': 0.3371111111111112,\n",
       " 'cens': 0.32549999999999996}"
      ]
     },
     "execution_count": 84,
     "metadata": {},
     "output_type": "execute_result"
    }
   ],
   "source": [
    "chroma_type_score"
   ]
  },
  {
   "cell_type": "code",
   "execution_count": 85,
   "id": "5270056e",
   "metadata": {},
   "outputs": [
    {
     "data": {
      "image/png": "[encoded data removed]",
      "text/plain": [
       "<Figure size 432x288 with 1 Axes>"
      ]
     },
     "metadata": {
      "needs_background": "light"
     },
     "output_type": "display_data"
    }
   ],
   "source": [
    "x, y = zip(*(chroma_type_score.items()))\n",
    "\n",
    "plt.plot(x, y)\n",
    "plt.show()"
   ]
  },
  {
   "cell_type": "markdown",
   "id": "fe8a351f",
   "metadata": {},
   "source": [
    "CQT performed the best of the three chrome types. But the difference is not significant: the best (CQT) minus the worst (STFT) is about 4%"
   ]
  },
  {
   "cell_type": "code",
   "execution_count": 78,
   "id": "df326841",
   "metadata": {},
   "outputs": [
    {
     "data": {
      "text/plain": [
       "{'binary_templates': 0.3040185185185185,\n",
       " 'ks_templates': 0.3189074074074074,\n",
       " 'harmonic_templates': 0.335462962962963}"
      ]
     },
     "execution_count": 78,
     "metadata": {},
     "output_type": "execute_result"
    }
   ],
   "source": [
    "templates_score"
   ]
  },
  {
   "cell_type": "code",
   "execution_count": 86,
   "id": "1592c42e",
   "metadata": {},
   "outputs": [
    {
     "data": {
      "image/png": "[encoded data removed]",
      "text/plain": [
       "<Figure size 432x288 with 1 Axes>"
      ]
     },
     "metadata": {
      "needs_background": "light"
     },
     "output_type": "display_data"
    }
   ],
   "source": [
    "x, y = zip(*(templates_score.items()))\n",
    "\n",
    "plt.plot(x, y)\n",
    "plt.show()"
   ]
  },
  {
   "cell_type": "markdown",
   "id": "8c7fa703",
   "metadata": {},
   "source": [
    "The harmonic template has the best performance among the three templates."
   ]
  },
  {
   "cell_type": "code",
   "execution_count": 79,
   "id": "b42fdf82",
   "metadata": {},
   "outputs": [
    {
     "data": {
      "text/plain": [
       "{'raw': 0.298888888888889, 'weighted': 0.34003703703703714}"
      ]
     },
     "execution_count": 79,
     "metadata": {},
     "output_type": "execute_result"
    }
   ],
   "source": [
    "methods_score"
   ]
  },
  {
   "cell_type": "markdown",
   "id": "73fe3a1c",
   "metadata": {},
   "source": [
    "The weighted score is greater than the raw one, but the difference is insignificant. This means if our algorithm failed to predict the correct key, it would probably fail to predict a relative close key, too."
   ]
  },
  {
   "cell_type": "code",
   "execution_count": null,
   "id": "6e77ea4b",
   "metadata": {},
   "outputs": [],
   "source": []
  }
 ],
 "metadata": {
  "kernelspec": {
   "display_name": "Python 3 (ipykernel)",
   "language": "python",
   "name": "python3"
  },
  "language_info": {
   "codemirror_mode": {
    "name": "ipython",
    "version": 3
   },
   "file_extension": ".py",
   "mimetype": "text/x-python",
   "name": "python",
   "nbconvert_exporter": "python",
   "pygments_lexer": "ipython3",
   "version": "3.8.12"
  }
 },
 "nbformat": 4,
 "nbformat_minor": 5
}
