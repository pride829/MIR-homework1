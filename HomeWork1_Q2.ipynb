{
 "cells": [
  {
   "cell_type": "code",
   "execution_count": 1,
   "id": "b3532faf",
   "metadata": {},
   "outputs": [],
   "source": [
    "import librosa\n",
    "import librosa.display\n",
    "import pretty_midi\n",
    "import numpy as np\n",
    "import matplotlib.pyplot as plt\n",
    "from scipy import stats\n",
    "import os\n",
    "\n",
    "versions = ['HU33', 'SC06', 'FI66', 'FI80', 'midi']\n",
    "\n",
    "chroma_type = ['stft', 'cq', 'cens']\n",
    "# Naming mistake, cq should be cqt\n",
    "\n",
    "\n",
    "# I'll just choose the easy way out...\n",
    "key2num = {\n",
    "    \"A:maj\": 0, \"Bb:maj\": 1, \"B:maj\": 2,\n",
    "    \"C:maj\": 3, \"Db:maj\": 4, \"D:maj\": 5, \"Eb:maj\": 6, \n",
    "    \"E:maj\": 7, \"F:maj\": 8, \"F#:maj\": 9, \"G:maj\": 10, \"G#:maj\": 11,\n",
    "    \"A:min\": 12, \"Bb:min\": 13, \"B:min\": 14,\n",
    "    \"C:min\": 15, \"Db:min\": 16, \"D:min\": 17, \"D#:min\": 18, \"Eb:min\": 18, \n",
    "    # There is D#:min and Eb:min, This could be a problem when finding key\n",
    "    \"E:min\": 19, \"F:min\": 20, \"F#:min\": 21, \"G:min\": 22, \"G#:min\": 23,\n",
    "    }\n",
    "\n",
    "binary_templates = [[1, 0, 1, 0, 1, 1, 0, 1, 0, 1, 0, 1], [1, 0, 1, 1, 0, 1, 0, 1, 1, 0, 1, 0]]\n",
    "\n",
    "ks_templates = [[6.35, 2.23, 3.48, 2.33, 4.38, 4.09, 2.52, 5.19, 2.39, 3.66, 2.29, 2.88], \n",
    "                [6.33, 2.68, 3.52, 5.38, 2.6, 3.53, 2.54, 4.75, 3.98, 2.69, 3.34, 3.17]]\n",
    "\n",
    "# Tested with an irrelevent vector, perform a differnt result than binary_templates\n",
    "#ks_templates = [[1, 0, 0, 0, 0, 0, 0, 0, 0, 0, 0, 0], [0, 0, 0, 0, 0, 0, 0, 0, 0, 0, 0, 1]]\n",
    "\n",
    "alpha = 0.9\n",
    "\n",
    "uc = [1 + alpha + alpha**3 + alpha**7,\n",
    "        0,\n",
    "        0,\n",
    "        0,\n",
    "        alpha**4,\n",
    "        0,\n",
    "        0,\n",
    "        alpha**2+alpha**5,\n",
    "        0,\n",
    "        0,\n",
    "        alpha**6,\n",
    "        0]\n",
    "\n",
    "\n",
    "u = [None]*12\n",
    "for i in range(12):\n",
    "    # 0 means ua, 1 means ua#, ...\n",
    "    u[i] = np.roll(uc, i-3)\n",
    "\n",
    "harmonic_major_template = [0] * 12\n",
    "harmonic_minor_template = [0] * 12\n",
    "\n",
    "for i in range(12):\n",
    "    if binary_templates[0][i] == 1:\n",
    "        harmonic_major_template += u[(i+3)%12]\n",
    "    if binary_templates[1][i] == 1:\n",
    "        harmonic_minor_template += u[(i+3)%12]    \n",
    "\n",
    "harmonic_templates = [harmonic_major_template, harmonic_minor_template]\n"
   ]
  },
  {
   "cell_type": "code",
   "execution_count": 2,
   "id": "177f8aae",
   "metadata": {},
   "outputs": [],
   "source": [
    "def get_SWD_keys(versions, key2num):\n",
    "    \"\"\"\n",
    "    Get keys for each song in each genres in GTZAN dataset. The path of the set is fixed.\n",
    "    \n",
    "    :param: versions\n",
    "    :return: A dict that contains the true key of each genres.\n",
    "    \n",
    "    Example:\n",
    "        key0 = d[1]['HU33']\n",
    "    \"\"\"\n",
    "    \n",
    "    d = {}    \n",
    "    # Load audio key\n",
    "    key_path = \"data/SWD/02_Annotations/ann_audio_globalkey.csv\"\n",
    "    with open(key_path, mode='r') as f:\n",
    "        \n",
    "        # Skip first line\n",
    "        line = f.readline()\n",
    "        \n",
    "        while True:\n",
    "            \n",
    "            # Parse the string\n",
    "            line = f.readline()\n",
    "            if not line:\n",
    "                break\n",
    "                \n",
    "            line = line.split('\\\"')\n",
    "            index = int(line[1].split('-')[1])\n",
    "            \n",
    "            version = line[3]\n",
    "            if not version in versions:\n",
    "                continue\n",
    "                \n",
    "            if not version in d:\n",
    "                d[version] = {}\n",
    "            \n",
    "            if not line[5] in key2num:\n",
    "                print('Error')\n",
    "            \n",
    "            d[version][index] = key2num[line[5]]\n",
    "        # While there are two audio key files, the second file does not seem to be necessary to load.\n",
    "        \n",
    "    # Load score key\n",
    "    key_path = \"data/SWD/02_Annotations/ann_score_globalkey.csv\"\n",
    "    with open(key_path, mode='r') as f:\n",
    "        # Parse the string\n",
    "        \n",
    "        # Skip first line\n",
    "        line = f.readline()\n",
    "        \n",
    "        while True:\n",
    "            \n",
    "            line = f.readline()\n",
    "            if not line:\n",
    "                break\n",
    "\n",
    "            line = line.split('\\\"')\n",
    "            index = int(line[1].split('-')[1])\n",
    "            \n",
    "            version = 'midi'\n",
    "                \n",
    "            if not version in d:\n",
    "                d[version] = {}\n",
    "                \n",
    "            if not line[3] in key2num:\n",
    "                print('Error')\n",
    "            \n",
    "            d[version][index] = key2num[line[3]]\n",
    "        \n",
    "    \n",
    "    for v in versions:\n",
    "        d[v] = list(d[v].values())\n",
    "        d[v].insert(0, -1)\n",
    "    \n",
    "    return d\n",
    "    \n",
    "    "
   ]
  },
  {
   "cell_type": "code",
   "execution_count": 3,
   "id": "3faff4ec",
   "metadata": {},
   "outputs": [],
   "source": [
    "keys = get_SWD_keys(versions, key2num)"
   ]
  },
  {
   "cell_type": "code",
   "execution_count": 4,
   "id": "f9d18f8a",
   "metadata": {},
   "outputs": [
    {
     "data": {
      "text/plain": [
       "[-1,\n",
       " 15,\n",
       " 22,\n",
       " 17,\n",
       " 12,\n",
       " 7,\n",
       " 17,\n",
       " 17,\n",
       " 20,\n",
       " 12,\n",
       " 14,\n",
       " 10,\n",
       " 14,\n",
       " 3,\n",
       " 14,\n",
       " 14,\n",
       " 5,\n",
       " 5,\n",
       " 17,\n",
       " 0,\n",
       " 20,\n",
       " 8,\n",
       " 21,\n",
       " 10,\n",
       " 22]"
      ]
     },
     "execution_count": 4,
     "metadata": {},
     "output_type": "execute_result"
    }
   ],
   "source": [
    "keys['FI66']"
   ]
  },
  {
   "cell_type": "code",
   "execution_count": 33,
   "id": "fc7cf04e",
   "metadata": {},
   "outputs": [],
   "source": [
    "def create_SWD_Chroma(versions):\n",
    "    \"\"\"\n",
    "    Create chroma file from mp3 and mid, save them to result/SWD/\n",
    "    \n",
    "    :param: versions(list): The list of versions. \n",
    "    :return: None\n",
    "    \"\"\"\n",
    "    \n",
    "    version2fileType = {\"FI66\": \".mp3\", \"FI80\": \".mp3\", \"HU33\": \".wav\", \"SC06\": \".wav\", \"midi\": \".mid\"}\n",
    "    \n",
    "\n",
    "    if(not os.path.isdir('result/SWD/chroma')):\n",
    "        for v in versions:\n",
    "            \n",
    "            # Skip midi for now\n",
    "            if v == \"midi\":\n",
    "                continue\n",
    "            \n",
    "            for i in range(24):\n",
    "                # 24 is the numbers songs of each genres'data \n",
    "\n",
    "                filename = \"data/SWD/01_RawData/audio_wav/\" + v + \"/Schubert_D911-\" + str(i+1).zfill(2) + \"_\" + v + version2fileType[v]\n",
    "                y, sr = librosa.load(filename)\n",
    "\n",
    "                # STFT chromagram\n",
    "                chroma_stft = librosa.feature.chroma_stft(\n",
    "                    y=y, sr=sr, n_chroma=12, n_fft=4096)\n",
    "                \n",
    "                # CQT chromagram\n",
    "                chroma_cq = librosa.feature.chroma_cqt(y=y, sr=sr)\n",
    "                \n",
    "                # Chroma Energy Normalized chromagram\n",
    "                chroma_cens = librosa.feature.chroma_cens(y=y, sr=sr)\n",
    "                \n",
    "                # Create new files for three types of chroma\n",
    "                \n",
    "                filename = \"result/SWD/chroma/\" + v + \"/stft/\" + str(i+1).zfill(5) + \".chroma_stft.txt\"\n",
    "                os.makedirs(os.path.dirname(filename), exist_ok=True)\n",
    "                with open(filename, mode='w') as f:\n",
    "                    np.savetxt(filename, chroma_stft)\n",
    "                    \n",
    "                filename = \"result/SWD/chroma/\" + v + \"/cq/\" + str(i+1).zfill(5) + \".chroma_cq.txt\"\n",
    "                os.makedirs(os.path.dirname(filename), exist_ok=True)\n",
    "                with open(filename, mode='w') as f:\n",
    "                    np.savetxt(filename, chroma_cq)\n",
    "                    \n",
    "                filename = \"result/SWD/chroma/\" + v + \"/cens/\" + str(i+1).zfill(5) + \".chroma_cens.txt\"\n",
    "                os.makedirs(os.path.dirname(filename), exist_ok=True)\n",
    "                with open(filename, mode='w') as f:\n",
    "                    np.savetxt(filename, chroma_cens)\n",
    "\n",
    "    v = \"midi\"\n",
    "    for i in range(24):\n",
    "\n",
    "        filename = \"data/SWD/01_RawData/score_midi/Schubert_D911-\" + str(i+1).zfill(2) + version2fileType[v]\n",
    "        midi_data = pretty_midi.PrettyMIDI(filename)\n",
    "\n",
    "        chroma_midi = midi_data.get_chroma(fs=100) # Not sure how fs supposed to be\n",
    "\n",
    "        filename = \"result/SWD/chroma/\" + v + \"/\"  + str(i+1).zfill(5) + \".\" + v + \".txt\"\n",
    "        os.makedirs(os.path.dirname(filename), exist_ok=True)\n",
    "        with open(filename, mode='w') as f:\n",
    "            np.savetxt(filename, chroma_midi)\n",
    "            \n",
    "        \n",
    "        \n",
    "    return"
   ]
  },
  {
   "cell_type": "code",
   "execution_count": 34,
   "id": "4c293a80",
   "metadata": {},
   "outputs": [
    {
     "name": "stderr",
     "output_type": "stream",
     "text": [
      "C:\\Users\\pride829\\anaconda3\\lib\\site-packages\\librosa\\util\\decorators.py:88: UserWarning: PySoundFile failed. Trying audioread instead.\n",
      "  return f(*args, **kwargs)\n"
     ]
    }
   ],
   "source": [
    "create_SWD_Chroma(versions)"
   ]
  },
  {
   "cell_type": "code",
   "execution_count": 7,
   "id": "a5cf5481",
   "metadata": {},
   "outputs": [],
   "source": [
    "def get_SWD_Chroma(version:str, index:int, chroma_type:str=None):\n",
    "    \"\"\"\n",
    "    Get chroma from txt\n",
    "    \n",
    "    :return: (ndarray)\n",
    "    \"\"\"\n",
    "    \n",
    "    if not version == \"midi\":\n",
    "        filename = \"result/SWD/chroma/\" + version + \"/\" + chroma_type + \"/\" + str(index).zfill(5) + \".chroma_\" + chroma_type + \".txt\"\n",
    "        with open(filename, mode='r') as f:\n",
    "            return np.loadtxt(filename)\n",
    "    else:\n",
    "        filename = \"result/SWD/chroma/\" + version + \"/\"  + str(index).zfill(5) + \".\" + version + \".txt\"\n",
    "        with open(filename, mode='r') as f:\n",
    "            return np.loadtxt(filename)"
   ]
  },
  {
   "cell_type": "code",
   "execution_count": 8,
   "id": "dad60a2c",
   "metadata": {},
   "outputs": [
    {
     "data": {
      "text/plain": [
       "array([[0.31588927, 0.31109607, 0.30639002, ..., 0.63326299, 0.63054359,\n",
       "        0.62742054],\n",
       "       [0.41401154, 0.4080548 , 0.40170783, ..., 0.08710974, 0.09396885,\n",
       "        0.10104251],\n",
       "       [0.42919198, 0.43215033, 0.43497959, ..., 0.22854227, 0.22922067,\n",
       "        0.22984125],\n",
       "       ...,\n",
       "       [0.23344074, 0.23518088, 0.23710883, ..., 0.        , 0.        ,\n",
       "        0.        ],\n",
       "       [0.23285231, 0.23378283, 0.23464169, ..., 0.01722649, 0.01816434,\n",
       "        0.01907932],\n",
       "       [0.23285231, 0.23378283, 0.23464169, ..., 0.06988326, 0.0758045 ,\n",
       "        0.08196318]])"
      ]
     },
     "execution_count": 8,
     "metadata": {},
     "output_type": "execute_result"
    }
   ],
   "source": [
    "get_SWD_Chroma(\"FI66\", 1, \"cens\")"
   ]
  },
  {
   "cell_type": "code",
   "execution_count": 9,
   "id": "e3ba894e",
   "metadata": {},
   "outputs": [
    {
     "data": {
      "text/plain": [
       "array([[  0.,   0.,   0., ...,   0.,   0.,   0.],\n",
       "       [  0.,   0.,   0., ...,   0.,   0.,   0.],\n",
       "       [ 65.,  65.,  65., ..., 126., 126., 126.],\n",
       "       ...,\n",
       "       [ 65.,  65.,  65., ...,  84.,  84.,  84.],\n",
       "       [  0.,   0.,   0., ...,   0.,   0.,   0.],\n",
       "       [  0.,   0.,   0., ...,   0.,   0.,   0.]])"
      ]
     },
     "execution_count": 9,
     "metadata": {},
     "output_type": "execute_result"
    }
   ],
   "source": [
    "get_SWD_Chroma(\"midi\", 1)"
   ]
  },
  {
   "cell_type": "code",
   "execution_count": 10,
   "id": "8435c903",
   "metadata": {},
   "outputs": [],
   "source": [
    "def create_SWD_tonic_pitch(versions:list, chroma_type:list):\n",
    "    \"\"\"\n",
    "    Create tonic pitch list from chroma files if not already exsists.\n",
    "    Start from A == 0\n",
    "    \n",
    "    \"\"\"\n",
    "    if(not os.path.isdir('result/SWD/tonic_pitch')):\n",
    "        tonic_pitch_path = \"result/SWD/tonic_pitch/\"\n",
    "        \n",
    "        for v in versions:\n",
    "            tonic_pitch_versions_path = tonic_pitch_path + v + \"/\"\n",
    "            \n",
    "            if v != \"midi\":\n",
    "                for c in chroma_type:\n",
    "\n",
    "                    filename = tonic_pitch_versions_path + c + \".txt\"\n",
    "                    os.makedirs(os.path.dirname(filename), exist_ok=True)\n",
    "                    with open(filename, mode='w') as f:\n",
    "\n",
    "                        for i in range(1, 25):\n",
    "                        # 24 is the numbers of songs of each versions'data\n",
    "                        # Data starts from 1\n",
    "                            chroma = get_SWD_Chroma(v, i, c)\n",
    "                            mean_pooling_chroma = chroma.sum(axis=1)\n",
    "                            tonic_pitch = (np.argmax(mean_pooling_chroma)+3)%12 # Shift to A=0\n",
    "                            f.write(str(tonic_pitch) + '\\n')\n",
    "            else:\n",
    "                filename = tonic_pitch_versions_path + \"midi.txt\"\n",
    "                os.makedirs(os.path.dirname(filename), exist_ok=True)\n",
    "                with open(filename, mode='w') as f:\n",
    "\n",
    "                    for i in range(1, 25):\n",
    "                        chroma = get_SWD_Chroma(v, i)\n",
    "                        mean_pooling_chroma = chroma.sum(axis=1)\n",
    "                        tonic_pitch = (np.argmax(mean_pooling_chroma)+3)%12 # Shift to A=0\n",
    "                        f.write(str(tonic_pitch) + '\\n')\n",
    "    return"
   ]
  },
  {
   "cell_type": "code",
   "execution_count": 11,
   "id": "0bd35e58",
   "metadata": {},
   "outputs": [],
   "source": [
    "create_SWD_tonic_pitch(versions, chroma_type)"
   ]
  },
  {
   "cell_type": "code",
   "execution_count": 12,
   "id": "097a39c9",
   "metadata": {},
   "outputs": [],
   "source": [
    "def get_SWD_tonic_pitch(versions:list, chroma_type:list):\n",
    "    \"\"\"\n",
    "    :Return: pitches(dict): \n",
    "    \"\"\"\n",
    "    \n",
    "    d = {}\n",
    "    tonic_pitch_path = \"result/SWD/tonic_pitch/\"\n",
    "    \n",
    "    for v in versions:\n",
    "        if v != \"midi\":\n",
    "            tonic_pitch_versions_path = tonic_pitch_path + v + \"/\"\n",
    "            d[v] = {}\n",
    "\n",
    "            for c in chroma_type:\n",
    "                filename = tonic_pitch_versions_path + c + \".txt\"\n",
    "\n",
    "                with open(filename, mode='r+') as f:\n",
    "                    d[v][c] = [-1] # No number 0\n",
    "                    d[v][c].append(int(f.readline().rstrip()))\n",
    "                    for i in range(2, 25):\n",
    "                        d[v][c].append(int(f.readline().rstrip()))\n",
    "        else:\n",
    "            \n",
    "            filename = tonic_pitch_path + \"/midi/midi.txt\"\n",
    "            with open(filename, mode='r+') as f:\n",
    "                d[v] = [-1]\n",
    "                d[v].append(int(f.readline().rstrip()))\n",
    "                \n",
    "                for i in range(2, 25):\n",
    "                    d[v].append(int(f.readline().rstrip()))\n",
    "    \n",
    "    return d"
   ]
  },
  {
   "cell_type": "code",
   "execution_count": 13,
   "id": "fb2aff35",
   "metadata": {},
   "outputs": [
    {
     "data": {
      "text/plain": [
       "[-1, 3, 5, 0, 7, 2, 0, 5, 3, 0, 2, 10, 2, 3, 2, 2, 5, 5, 5, 7, 8, 3, 4, 5, 10]"
      ]
     },
     "execution_count": 13,
     "metadata": {},
     "output_type": "execute_result"
    }
   ],
   "source": [
    "pitches = get_SWD_tonic_pitch(versions, chroma_type)\n",
    "pitches['FI66']['cq']"
   ]
  },
  {
   "cell_type": "code",
   "execution_count": 14,
   "id": "407351ce",
   "metadata": {},
   "outputs": [
    {
     "data": {
      "text/plain": [
       "[-1, 0, 7, 3, 10, 2, 2, 2, 5, 2, 3, 0, 2, 1, 3, 3, 1, 5, 1, 7, 10, 3, 5, 7, 7]"
      ]
     },
     "execution_count": 14,
     "metadata": {},
     "output_type": "execute_result"
    }
   ],
   "source": [
    "pitches['midi']"
   ]
  },
  {
   "cell_type": "code",
   "execution_count": 15,
   "id": "9200bee2",
   "metadata": {},
   "outputs": [],
   "source": [
    "def predict_SWD_key(chroma, major_template, minor_template, tonic_pitch: int):\n",
    "    \"\"\"\n",
    "    Tonic_pitch start with A\n",
    "    \n",
    "    \"\"\"\n",
    "    \n",
    "    shifted_major_template = np.roll(major_template, -3 + tonic_pitch)\n",
    "    shifted_minor_template = np.roll(minor_template, -3 + tonic_pitch)\n",
    "    # -3 becuase input tempalte tonic is C\n",
    "    \n",
    "    mean_pooling_chroma = chroma.sum(axis=1)\n",
    "    \n",
    "    major_pcc = stats.pearsonr(mean_pooling_chroma, shifted_major_template)[0]\n",
    "    minor_pcc = stats.pearsonr(mean_pooling_chroma, shifted_minor_template)[0]\n",
    "    \n",
    "    if major_pcc > minor_pcc:\n",
    "        return tonic_pitch # Major\n",
    "    else:\n",
    "        return tonic_pitch+12 # Minor\n",
    "    "
   ]
  },
  {
   "cell_type": "code",
   "execution_count": 16,
   "id": "aad11b24",
   "metadata": {},
   "outputs": [
    {
     "data": {
      "text/plain": [
       "15"
      ]
     },
     "execution_count": 16,
     "metadata": {},
     "output_type": "execute_result"
    }
   ],
   "source": [
    "predict_SWD_key(get_SWD_Chroma('FI66', 1, 'cq'), \n",
    "                  binary_templates[0], \n",
    "                  binary_templates[1], \n",
    "                  pitches['FI66']['cq'][1])"
   ]
  },
  {
   "cell_type": "code",
   "execution_count": 17,
   "id": "e0d6639b",
   "metadata": {},
   "outputs": [
    {
     "data": {
      "text/plain": [
       "12"
      ]
     },
     "execution_count": 17,
     "metadata": {},
     "output_type": "execute_result"
    }
   ],
   "source": [
    "predict_SWD_key(get_SWD_Chroma('midi', 1), \n",
    "                  binary_templates[0], \n",
    "                  binary_templates[1], \n",
    "                  pitches['midi'][1])"
   ]
  },
  {
   "cell_type": "code",
   "execution_count": 18,
   "id": "42642088",
   "metadata": {},
   "outputs": [],
   "source": [
    "def create_SWD_predict(versions:list, chroma_type:list, pitches:dict, binary_templates:list, ks_templates:list, harmonic_templates:list):\n",
    "    \n",
    "    if(not os.path.isdir('result/SWD/predict/')):\n",
    "        predict_path = \"result/SWD/predict/\"\n",
    "        \n",
    "        for v in versions:\n",
    "            \n",
    "            predict_versions_path = predict_path + \"/\" + v + \"/\"\n",
    "            \n",
    "            \n",
    "            if v != \"midi\":\n",
    "                for c in chroma_type:\n",
    "                    predict_versions_chroma_path = predict_versions_path + \"/\" + c + \"/\"\n",
    "\n",
    "                    # Get binary_templates results\n",
    "                    filename = predict_versions_chroma_path + \"binary_templates.txt\"\n",
    "                    os.makedirs(os.path.dirname(filename), exist_ok=True)\n",
    "                    with open(filename, mode='w') as f:\n",
    "                        for i in range(1, 25):\n",
    "                            predict_key = predict_SWD_key(\n",
    "                            get_SWD_Chroma(v, i, c),\n",
    "                                binary_templates[0],\n",
    "                                binary_templates[1],\n",
    "                                pitches[v][c][i]\n",
    "                            )\n",
    "                            f.write(str(predict_key) + '\\n')\n",
    "\n",
    "                    # Get ks_templates results\n",
    "                    filename = predict_versions_chroma_path + \"ks_templates.txt\"\n",
    "                    os.makedirs(os.path.dirname(filename), exist_ok=True)\n",
    "                    with open(filename, mode='w') as f:\n",
    "                        for i in range(1, 25):\n",
    "                            predict_key = predict_SWD_key(\n",
    "                            get_SWD_Chroma(v, i, c),\n",
    "                                ks_templates[0],\n",
    "                                ks_templates[1],\n",
    "                                pitches[v][c][i]\n",
    "                            )\n",
    "                            f.write(str(predict_key) + '\\n')\n",
    "\n",
    "                    # Get harmonic_templates results\n",
    "                    filename = predict_versions_chroma_path + \"harmonic_templates.txt\"\n",
    "                    os.makedirs(os.path.dirname(filename), exist_ok=True)\n",
    "                    with open(filename, mode='w') as f:\n",
    "                        for i in range(1, 25):\n",
    "                            predict_key = predict_SWD_key(\n",
    "                            get_SWD_Chroma(v, i, c),\n",
    "                                harmonic_templates[0],\n",
    "                                harmonic_templates[1],\n",
    "                                pitches[v][c][i]\n",
    "                            )\n",
    "                            f.write(str(predict_key) + '\\n')\n",
    "            else:\n",
    "\n",
    "                # Get binary_templates results\n",
    "                filename = predict_versions_path + \"binary_templates.txt\"\n",
    "                os.makedirs(os.path.dirname(filename), exist_ok=True)\n",
    "                with open(filename, mode='w') as f:\n",
    "                    for i in range(1, 25):\n",
    "                        predict_key = predict_SWD_key(\n",
    "                        get_SWD_Chroma(v, i),\n",
    "                            binary_templates[0],\n",
    "                            binary_templates[1],\n",
    "                            pitches[v][i]\n",
    "                        )\n",
    "                        f.write(str(predict_key) + '\\n')\n",
    "\n",
    "                # Get ks_templates results\n",
    "                filename = predict_versions_path + \"ks_templates.txt\"\n",
    "                os.makedirs(os.path.dirname(filename), exist_ok=True)\n",
    "                with open(filename, mode='w') as f:\n",
    "                    for i in range(1, 25):\n",
    "                        predict_key = predict_SWD_key(\n",
    "                        get_SWD_Chroma(v, i),\n",
    "                            ks_templates[0],\n",
    "                            ks_templates[1],\n",
    "                            pitches[v][i]\n",
    "                        )\n",
    "                        f.write(str(predict_key) + '\\n')\n",
    "\n",
    "                # Get harmonic_templates results\n",
    "                filename = predict_versions_path + \"harmonic_templates.txt\"\n",
    "                os.makedirs(os.path.dirname(filename), exist_ok=True)\n",
    "                with open(filename, mode='w') as f:\n",
    "                    for i in range(1, 25):\n",
    "                        predict_key = predict_SWD_key(\n",
    "                        get_SWD_Chroma(v, i),\n",
    "                            harmonic_templates[0],\n",
    "                            harmonic_templates[1],\n",
    "                            pitches[v][i]\n",
    "                        )\n",
    "                        f.write(str(predict_key) + '\\n')"
   ]
  },
  {
   "cell_type": "code",
   "execution_count": 19,
   "id": "8dab4899",
   "metadata": {},
   "outputs": [],
   "source": [
    "create_SWD_predict(versions, chroma_type, pitches, binary_templates, ks_templates, harmonic_templates)"
   ]
  },
  {
   "cell_type": "code",
   "execution_count": 40,
   "id": "a9974fdb",
   "metadata": {},
   "outputs": [],
   "source": [
    "def get_raw_acc(p, y):\n",
    "    \n",
    "    count = 0\n",
    "    for i in range(1, len(y)):\n",
    "        if p[i] == y[i]:\n",
    "            count += 1\n",
    "    return round(count / (len(y)-1), 5)\n",
    "    \n",
    "def get_weighted_acc(p, y):\n",
    "    \"\"\"\n",
    "    Refer to the weighted accuracy of Task 1 to see how weighting works.\n",
    "    \"\"\"\n",
    "    \n",
    "    score = 0\n",
    "    for i in range(1, len(y)):\n",
    "        if p[i] == y[i]:\n",
    "            score += 1\n",
    "        elif (p[i]+7)%12 == y[i]:\n",
    "            score += 0.5\n",
    "        elif p[i] < 12:\n",
    "            if p[i] + 9 == y[i]:\n",
    "                score += 0.3\n",
    "            elif p[i] + 12 == y[i]:\n",
    "                score += 0.2\n",
    "        elif p[i] >= 12:\n",
    "            if (p[i] + 3)%12 == y[i]:\n",
    "                score += 0.3\n",
    "            elif p[i] - 12 == y[i]:\n",
    "                score += 0.2\n",
    "    return round(score / (len(y)-1), 5)\n",
    "\n",
    "def create_SWD_acc(versions:list, chroma_type:list):\n",
    "    \n",
    "    if(not os.path.isdir('result/SWD/acc/')):\n",
    "        acc_path = \"result/SWD/acc/\"\n",
    "        predict_path = \"result/SWD/predict/\"\n",
    "        \n",
    "        acc = {}\n",
    "        for v in versions:\n",
    "            \n",
    "            if v == \"midi\":\n",
    "                continue\n",
    "            \n",
    "            acc_versions_path = acc_path + v + \".txt\"\n",
    "            predict_versions_path = predict_path + \"/\" + v + \"/\"\n",
    "            \n",
    "            acc[v] = {}\n",
    "            \n",
    "            # Get ground truth\n",
    "            y = keys[v]\n",
    "            \n",
    "            for c in chroma_type:\n",
    "                acc_versions_chroma_path = acc_versions_path + \"/\" + c + \"/\"\n",
    "                predict_versions_chroma_path = predict_versions_path + \"/\" + c + \"/\"\n",
    "                acc[v][c] = {}\n",
    "                \n",
    "                # Get binary_templates acc\n",
    "                acc[v][c][\"binary_templates\"] = {}\n",
    "                p_bt_filename = predict_versions_chroma_path + \"binary_templates.txt\"\n",
    "                p = [-1]\n",
    "                with open(p_bt_filename, mode='r+') as f:\n",
    "                    for i in range(1, 25):\n",
    "                        p.append(int(f.readline().rstrip()))\n",
    "                \n",
    "                # Raw and weighted acc\n",
    "                acc[v][c][\"binary_templates\"][\"raw\"] = get_raw_acc(p, y)\n",
    "                acc[v][c][\"binary_templates\"][\"weighted\"] = get_weighted_acc(p, y)\n",
    "                \n",
    "                \n",
    "                # Get ks_templates acc\n",
    "                acc[v][c][\"ks_templates\"] = {}\n",
    "                p_ks_filename = predict_versions_chroma_path + \"ks_templates.txt\"\n",
    "                p = [-1]\n",
    "                with open(p_ks_filename, mode='r+') as f:\n",
    "                    for i in range(1, 25):\n",
    "                        p.append(int(f.readline().rstrip()))\n",
    "                \n",
    "                # Raw and weighted acc\n",
    "                acc[v][c][\"ks_templates\"][\"raw\"] = get_raw_acc(p, y)\n",
    "                acc[v][c][\"ks_templates\"][\"weighted\"] = get_weighted_acc(p, y)\n",
    "                \n",
    "                \n",
    "                # Get harmonic_templates acc\n",
    "                acc[v][c][\"harmonic_templates\"] = {}\n",
    "                p_hm_filename = predict_versions_chroma_path + \"harmonic_templates.txt\"\n",
    "                p = [-1]\n",
    "                with open(p_hm_filename, mode='r+') as f:\n",
    "                    for i in range(1, 25):\n",
    "                        p.append(int(f.readline().rstrip()))\n",
    "                \n",
    "                # Raw and weighted acc\n",
    "                acc[v][c][\"harmonic_templates\"][\"raw\"] = get_raw_acc(p, y)\n",
    "                acc[v][c][\"harmonic_templates\"][\"weighted\"] = get_weighted_acc(p, y)\n",
    "        \n",
    "        # MIDI\n",
    "        v = \"midi\"\n",
    "        acc[v] = {}\n",
    "        predict_versions_path = predict_path + \"/midi/\"\n",
    "        acc_versions_path = acc_path +\"midi.txt\"\n",
    "        \n",
    "        # Get binary_templates acc\n",
    "        acc[v][\"binary_templates\"] = {}\n",
    "        p_bt_filename = predict_versions_path + \"binary_templates.txt\"\n",
    "        p = [-1]\n",
    "        with open(p_bt_filename, mode='r+') as f:\n",
    "            for i in range(1, 25):\n",
    "                p.append(int(f.readline().rstrip()))\n",
    "\n",
    "        # Raw and weighted acc\n",
    "        acc[v][\"binary_templates\"][\"raw\"] = get_raw_acc(p, y)\n",
    "        acc[v][\"binary_templates\"][\"weighted\"] = get_weighted_acc(p, y)\n",
    "\n",
    "\n",
    "        # Get ks_templates acc\n",
    "        acc[v][\"ks_templates\"] = {}\n",
    "        p_ks_filename = predict_versions_path + \"ks_templates.txt\"\n",
    "        p = [-1]\n",
    "        with open(p_ks_filename, mode='r+') as f:\n",
    "            for i in range(1, 25):\n",
    "                p.append(int(f.readline().rstrip()))\n",
    "\n",
    "        # Raw and weighted acc\n",
    "        acc[v][\"ks_templates\"][\"raw\"] = get_raw_acc(p, y)\n",
    "        acc[v][\"ks_templates\"][\"weighted\"] = get_weighted_acc(p, y)\n",
    "\n",
    "\n",
    "        # Get harmonic_templates acc\n",
    "        acc[v][\"harmonic_templates\"] = {}\n",
    "        p_hm_filename = predict_versions_path + \"harmonic_templates.txt\"\n",
    "        p = [-1]\n",
    "        with open(p_hm_filename, mode='r+') as f:\n",
    "            for i in range(1, 25):\n",
    "                p.append(int(f.readline().rstrip()))\n",
    "\n",
    "        # Raw and weighted acc\n",
    "        acc[v][\"harmonic_templates\"][\"raw\"] = get_raw_acc(p, y)\n",
    "        acc[v][\"harmonic_templates\"][\"weighted\"] = get_weighted_acc(p, y)\n",
    "        \n",
    "        \n",
    "        return acc"
   ]
  },
  {
   "cell_type": "code",
   "execution_count": 41,
   "id": "f99d7a24",
   "metadata": {},
   "outputs": [],
   "source": [
    "SWD_ans = create_SWD_acc(versions, chroma_type)"
   ]
  },
  {
   "cell_type": "code",
   "execution_count": 42,
   "id": "6ed071d5",
   "metadata": {},
   "outputs": [
    {
     "data": {
      "text/plain": [
       "{'HU33': {'stft': {'binary_templates': {'raw': 0.375, 'weighted': 0.375},\n",
       "   'ks_templates': {'raw': 0.33333, 'weighted': 0.34167},\n",
       "   'harmonic_templates': {'raw': 0.375, 'weighted': 0.375}},\n",
       "  'cq': {'binary_templates': {'raw': 0.29167, 'weighted': 0.3},\n",
       "   'ks_templates': {'raw': 0.33333, 'weighted': 0.33333},\n",
       "   'harmonic_templates': {'raw': 0.29167, 'weighted': 0.3}},\n",
       "  'cens': {'binary_templates': {'raw': 0.29167, 'weighted': 0.3},\n",
       "   'ks_templates': {'raw': 0.33333, 'weighted': 0.33333},\n",
       "   'harmonic_templates': {'raw': 0.29167, 'weighted': 0.3}}},\n",
       " 'SC06': {'stft': {'binary_templates': {'raw': 0.33333, 'weighted': 0.33333},\n",
       "   'ks_templates': {'raw': 0.33333, 'weighted': 0.33333},\n",
       "   'harmonic_templates': {'raw': 0.33333, 'weighted': 0.33333}},\n",
       "  'cq': {'binary_templates': {'raw': 0.33333, 'weighted': 0.33333},\n",
       "   'ks_templates': {'raw': 0.33333, 'weighted': 0.33333},\n",
       "   'harmonic_templates': {'raw': 0.33333, 'weighted': 0.33333}},\n",
       "  'cens': {'binary_templates': {'raw': 0.29167, 'weighted': 0.29167},\n",
       "   'ks_templates': {'raw': 0.29167, 'weighted': 0.29167},\n",
       "   'harmonic_templates': {'raw': 0.29167, 'weighted': 0.29167}}},\n",
       " 'FI66': {'stft': {'binary_templates': {'raw': 0.375, 'weighted': 0.38333},\n",
       "   'ks_templates': {'raw': 0.29167, 'weighted': 0.31667},\n",
       "   'harmonic_templates': {'raw': 0.375, 'weighted': 0.38333}},\n",
       "  'cq': {'binary_templates': {'raw': 0.54167, 'weighted': 0.55},\n",
       "   'ks_templates': {'raw': 0.5, 'weighted': 0.51667},\n",
       "   'harmonic_templates': {'raw': 0.54167, 'weighted': 0.55}},\n",
       "  'cens': {'binary_templates': {'raw': 0.45833, 'weighted': 0.45833},\n",
       "   'ks_templates': {'raw': 0.41667, 'weighted': 0.425},\n",
       "   'harmonic_templates': {'raw': 0.45833, 'weighted': 0.45833}}},\n",
       " 'FI80': {'stft': {'binary_templates': {'raw': 0.29167, 'weighted': 0.35},\n",
       "   'ks_templates': {'raw': 0.33333, 'weighted': 0.38333},\n",
       "   'harmonic_templates': {'raw': 0.33333, 'weighted': 0.38333}},\n",
       "  'cq': {'binary_templates': {'raw': 0.5, 'weighted': 0.5125},\n",
       "   'ks_templates': {'raw': 0.5, 'weighted': 0.5125},\n",
       "   'harmonic_templates': {'raw': 0.5, 'weighted': 0.5125}},\n",
       "  'cens': {'binary_templates': {'raw': 0.45833, 'weighted': 0.47083},\n",
       "   'ks_templates': {'raw': 0.45833, 'weighted': 0.47083},\n",
       "   'harmonic_templates': {'raw': 0.45833, 'weighted': 0.47083}}},\n",
       " 'midi': {'binary_templates': {'raw': 0.08333, 'weighted': 0.08333},\n",
       "  'ks_templates': {'raw': 0.08333, 'weighted': 0.08333},\n",
       "  'harmonic_templates': {'raw': 0.08333, 'weighted': 0.09583}}}"
      ]
     },
     "execution_count": 42,
     "metadata": {},
     "output_type": "execute_result"
    }
   ],
   "source": [
    "SWD_ans\n",
    "# The result looks suspicously round probably because of the lack of data count"
   ]
  },
  {
   "cell_type": "code",
   "execution_count": 39,
   "id": "2b4ebcae",
   "metadata": {},
   "outputs": [],
   "source": [
    "methods = [\"raw\", \"weighted\"]\n",
    "templates = [\"binary_templates\", \"ks_templates\", \"harmonic_templates\"]\n",
    "\n",
    "versions_score = {}\n",
    "versions_count = 3*3*2\n",
    "chroma_type_score = {}\n",
    "chroma_type_count = 4*3*2\n",
    "templates_score = {}\n",
    "templates_count = 4*3*2\n",
    "methods_score = {}\n",
    "methods_count = 4*3*3\n",
    "\n",
    "for v in versions:\n",
    "    if v == 'midi':\n",
    "        continue\n",
    "    \n",
    "    for c in chroma_type:\n",
    "        for t in templates:\n",
    "            for m in methods:\n",
    "                score = float(SWD_ans[v][c][t][m])\n",
    "                \n",
    "                if v not in versions_score:\n",
    "                    versions_score[v] = score\n",
    "                else:\n",
    "                    versions_score[v] += score\n",
    "                \n",
    "                if c not in chroma_type_score:\n",
    "                    chroma_type_score[c] = score\n",
    "                else:\n",
    "                    chroma_type_score[c] += score\n",
    "                    \n",
    "                if t not in templates_score:\n",
    "                    templates_score[t] = score\n",
    "                else:\n",
    "                    templates_score[t] += score\n",
    "                    \n",
    "                if m not in methods_score:\n",
    "                    methods_score[m] = score\n",
    "                else:\n",
    "                    methods_score[m] += score"
   ]
  },
  {
   "cell_type": "code",
   "execution_count": 45,
   "id": "3fec59f3",
   "metadata": {},
   "outputs": [],
   "source": [
    "versions_score = {k: v/versions_count for k, v in versions_score.items()}\n",
    "chroma_type_score = {k: v/chroma_type_count for k, v in chroma_type_score.items()}\n",
    "templates_score = {k: v/templates_count for k, v in templates_score.items()}\n",
    "methods_score = {k: v/methods_count for k, v in methods_score.items()}"
   ]
  },
  {
   "cell_type": "code",
   "execution_count": 46,
   "id": "54fd23c5",
   "metadata": {},
   "outputs": [
    {
     "data": {
      "text/plain": [
       "{'HU33': 0.32638888888888884,\n",
       " 'SC06': 0.31944333333333336,\n",
       " 'FI66': 0.4444444444444444,\n",
       " 'FI80': 0.4388872222222223}"
      ]
     },
     "execution_count": 46,
     "metadata": {},
     "output_type": "execute_result"
    }
   ],
   "source": [
    "versions_score"
   ]
  },
  {
   "cell_type": "markdown",
   "id": "e8f0753d",
   "metadata": {},
   "source": [
    "The FI66 and FI80 outperform the other two types by about 10%"
   ]
  },
  {
   "cell_type": "code",
   "execution_count": 49,
   "id": "ea661f22",
   "metadata": {},
   "outputs": [
    {
     "data": {
      "image/png": "[encoded data removed]",
      "text/plain": [
       "<Figure size 432x288 with 1 Axes>"
      ]
     },
     "metadata": {
      "needs_background": "light"
     },
     "output_type": "display_data"
    }
   ],
   "source": [
    "x, y = zip(*(versions_score.items()))\n",
    "\n",
    "plt.plot(x, y)\n",
    "plt.show()"
   ]
  },
  {
   "cell_type": "code",
   "execution_count": 50,
   "id": "a3d64180",
   "metadata": {},
   "outputs": [
    {
     "data": {
      "text/plain": [
       "{'stft': 0.34895708333333336,\n",
       " 'cq': 0.4203120833333333,\n",
       " 'cens': 0.37760374999999996}"
      ]
     },
     "execution_count": 50,
     "metadata": {},
     "output_type": "execute_result"
    }
   ],
   "source": [
    "chroma_type_score"
   ]
  },
  {
   "cell_type": "markdown",
   "id": "c1b02c56",
   "metadata": {},
   "source": [
    "Same as question 1, the CQT chroma method has the best performance. The difference is that the gap is now more significant."
   ]
  },
  {
   "cell_type": "code",
   "execution_count": null,
   "id": "8cf7bf46",
   "metadata": {},
   "outputs": [],
   "source": [
    "x, y = zip(*(chroma_type_score.items()))\n",
    "\n",
    "plt.plot(x, y)\n",
    "plt.show()"
   ]
  },
  {
   "cell_type": "code",
   "execution_count": 51,
   "id": "bee994bc",
   "metadata": {},
   "outputs": [
    {
     "data": {
      "text/plain": [
       "{'binary_templates': 0.3833329166666666,\n",
       " 'ks_templates': 0.3770825,\n",
       " 'harmonic_templates': 0.38645749999999995}"
      ]
     },
     "execution_count": 51,
     "metadata": {},
     "output_type": "execute_result"
    }
   ],
   "source": [
    "templates_score"
   ]
  },
  {
   "cell_type": "code",
   "execution_count": 52,
   "id": "6d75418f",
   "metadata": {},
   "outputs": [
    {
     "data": {
      "image/png": "[encoded data removed]",
      "text/plain": [
       "<Figure size 432x288 with 1 Axes>"
      ]
     },
     "metadata": {
      "needs_background": "light"
     },
     "output_type": "display_data"
    }
   ],
   "source": [
    "x, y = zip(*(templates_score.items()))\n",
    "\n",
    "plt.plot(x, y)\n",
    "plt.show()"
   ]
  },
  {
   "cell_type": "markdown",
   "id": "415ac0df",
   "metadata": {},
   "source": [
    "All three templates has close performance for this dataset."
   ]
  },
  {
   "cell_type": "code",
   "execution_count": 53,
   "id": "e63c9540",
   "metadata": {},
   "outputs": [
    {
     "data": {
      "text/plain": [
       "{'raw': 0.37731444444444445, 'weighted': 0.38726749999999993}"
      ]
     },
     "execution_count": 53,
     "metadata": {},
     "output_type": "execute_result"
    }
   ],
   "source": [
    "methods_score"
   ]
  },
  {
   "cell_type": "code",
   "execution_count": 54,
   "id": "f3c696e9",
   "metadata": {},
   "outputs": [
    {
     "data": {
      "image/png": "[encoded data removed]",
      "text/plain": [
       "<Figure size 432x288 with 1 Axes>"
      ]
     },
     "metadata": {
      "needs_background": "light"
     },
     "output_type": "display_data"
    }
   ],
   "source": [
    "x, y = zip(*(methods_score.items()))\n",
    "\n",
    "plt.plot(x, y)\n",
    "plt.show()"
   ]
  },
  {
   "cell_type": "markdown",
   "id": "4c8ce655",
   "metadata": {},
   "source": [
    "The difference between raw score and weighted score is even less than the case in question 1."
   ]
  },
  {
   "cell_type": "code",
   "execution_count": null,
   "id": "3d01c8c5",
   "metadata": {},
   "outputs": [],
   "source": []
  }
 ],
 "metadata": {
  "kernelspec": {
   "display_name": "Python 3 (ipykernel)",
   "language": "python",
   "name": "python3"
  },
  "language_info": {
   "codemirror_mode": {
    "name": "ipython",
    "version": 3
   },
   "file_extension": ".py",
   "mimetype": "text/x-python",
   "name": "python",
   "nbconvert_exporter": "python",
   "pygments_lexer": "ipython3",
   "version": "3.8.12"
  }
 },
 "nbformat": 4,
 "nbformat_minor": 5
}
