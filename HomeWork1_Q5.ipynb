{
 "cells": [
  {
   "cell_type": "code",
   "execution_count": 21,
   "id": "2c56dc0e",
   "metadata": {},
   "outputs": [],
   "source": [
    "import os\n",
    "\n",
    "versions = ['HU33', 'SC06', 'FI66', 'FI80']\n",
    "chroma_type = ['stft', 'cq', 'cens']\n",
    "\n",
    "template_type = ['binary', 'ks', 'harmonic']\n",
    "\n",
    "key2num = {\n",
    "    \"A:maj\": 0, \"A#:maj\": 1, \"Bb:maj\": 1, \"B:maj\": 2,\n",
    "    \"C:maj\": 3, \"C#:maj\": 4, \"Db:maj\": 4, \"D:maj\": 5, \"D#:maj\": 6, \"Eb:maj\": 6, \n",
    "    \"E:maj\": 7, \"F:maj\": 8, \"F#:maj\": 9, \"G:maj\": 10, \"G#:maj\": 11, \"Ab:maj\": 11,\n",
    "    \"A:min\": 12, \"A#:min\": 13, \"Bb:min\": 13, \"B:min\": 14,\n",
    "    \"C:min\": 15, \"C#:min\": 16, \"Db:min\": 16, \"D:min\": 17, \"D#:min\": 18, \"Eb:min\": 18, \n",
    "    # There is D#:min and Eb:min, This could be a problem when finding key\n",
    "    \"E:min\": 19, \"F:min\": 20, \"F#:min\": 21, \"G:min\": 22, \"G#:min\": 23, \"Ab:min\": 23,\n",
    "    }\n",
    "\n",
    "num2key = {\n",
    "    0: \"A:maj\", 1: \"A#:maj\", 2: \"B:maj\", 3: \"C:maj\", 4: \"C#:maj\", 5: \"D:maj\", 6: \"D#:maj\",\n",
    "    7: \"E:maj\", 8:\"F:maj\", 9: \"F#maj\", 10: \"G:maj\", 11: \"G#:maj\", \n",
    "    12: \"A:min\", 13: \"A#:min\", 14: \"B:min\", 15: \"C:min\", 16: \"C#:min\", 17: \"D:min\", 18: \"D#min\",\n",
    "    19: \"E:min\", 20: \"F:min\", 21: \"F#:min\", 22: \"G:min\", 23: \"G#:min\"\n",
    "}"
   ]
  },
  {
   "cell_type": "code",
   "execution_count": 17,
   "id": "8f1b373f",
   "metadata": {},
   "outputs": [],
   "source": [
    "predict = []\n",
    "\n",
    "key_path = \"result/SWD/local_predict/FI66/1/cens/binary.txt\"\n",
    "with open(key_path, mode='r') as f:\n",
    "    \n",
    "    \n",
    "    pre_frame_i = 10\n",
    "    frame_i = 0\n",
    "\n",
    "    pre_key = int(f.readline())\n",
    "\n",
    "    while True:\n",
    "        # Parse the string\n",
    "        \n",
    "        line = f.readline()\n",
    "        if not line:\n",
    "            break\n",
    "        \n",
    "        if frame_i < 10:\n",
    "            frame_i += 1\n",
    "            continue\n",
    "        \n",
    "        \n",
    "        key = int(line)\n",
    "        \n",
    "        if key != pre_key:\n",
    "            \n",
    "            predict.append([pre_frame_i, frame_i, pre_key])\n",
    "            pre_key = key\n",
    "            pre_frame_i = frame_i\n",
    "        \n",
    "        frame_i += 1\n",
    "    predict.append([pre_frame_i, frame_i, pre_key])"
   ]
  },
  {
   "cell_type": "code",
   "execution_count": 18,
   "id": "447a4993",
   "metadata": {},
   "outputs": [
    {
     "data": {
      "text/plain": [
       "[[10, 311, 15],\n",
       " [311, 549, 6],\n",
       " [549, 1048, 15],\n",
       " [1048, 1334, 6],\n",
       " [1334, 1834, 15],\n",
       " [1834, 1966, 6],\n",
       " [1966, 2439, 15],\n",
       " [2439, 3044, 3],\n",
       " [3044, 3343, 22]]"
      ]
     },
     "execution_count": 18,
     "metadata": {},
     "output_type": "execute_result"
    }
   ],
   "source": [
    "predict"
   ]
  },
  {
   "cell_type": "code",
   "execution_count": 31,
   "id": "fed6d69b",
   "metadata": {},
   "outputs": [],
   "source": [
    "key_path = \"result/SWD/local_predict_csv/FI66/1/cens/binary.csv\"\n",
    "os.makedirs(os.path.dirname(key_path), exist_ok=True)\n",
    "with open(key_path, mode='w') as f:\n",
    "    f.write('start;end;key\\n')\n",
    "    for p in predict:\n",
    "        key = num2key[p[2]]\n",
    "        f.write(str(p[0]/10) + ';' + str(p[1]/10) + ';\"' + str(key) + '\"\\n')\n",
    "\n",
    "        \n"
   ]
  },
  {
   "cell_type": "code",
   "execution_count": 38,
   "id": "29fd9bb4",
   "metadata": {},
   "outputs": [],
   "source": [
    "import mir_eval\n",
    "\n",
    "(ref_intervals, ref_labels) = mir_eval.io.load_labeled_intervals('result/SWD/local_predict_csv/FI66/1/cens/binary.csv', \n",
    "                                                                 delimiter=';',\n",
    "                                                                 comment='start;end;key')\n",
    "(ref_intervals2, ref_labels2) = mir_eval.io.load_labeled_intervals('data/SWD/02_Annotations/ann_audio_localkey-ann1/Schubert_D911-01_HU33.csv', \n",
    "                                                                 delimiter=';',\n",
    "                                                                 comment='start;end;key')\n"
   ]
  },
  {
   "cell_type": "code",
   "execution_count": 40,
   "id": "fe8fe610",
   "metadata": {},
   "outputs": [
    {
     "data": {
      "text/plain": [
       "0.8597332632547138"
      ]
     },
     "execution_count": 40,
     "metadata": {},
     "output_type": "execute_result"
    }
   ],
   "source": [
    "mir_eval.chord.underseg(ref_intervals, ref_intervals2)"
   ]
  },
  {
   "cell_type": "code",
   "execution_count": 34,
   "id": "941a050d",
   "metadata": {},
   "outputs": [
    {
     "data": {
      "text/plain": [
       "array([[  1. ,  31.1],\n",
       "       [ 31.1,  54.9],\n",
       "       [ 54.9, 104.8],\n",
       "       [104.8, 133.4],\n",
       "       [133.4, 183.4],\n",
       "       [183.4, 196.6],\n",
       "       [196.6, 243.9],\n",
       "       [243.9, 304.4],\n",
       "       [304.4, 334.3]])"
      ]
     },
     "execution_count": 34,
     "metadata": {},
     "output_type": "execute_result"
    }
   ],
   "source": [
    "ref_intervals"
   ]
  },
  {
   "cell_type": "code",
   "execution_count": 39,
   "id": "41142f8c",
   "metadata": {},
   "outputs": [
    {
     "data": {
      "text/plain": [
       "array([[  1.26,  31.68],\n",
       "       [ 31.68,  40.56],\n",
       "       [ 40.56,  49.  ],\n",
       "       [ 49.  ,  98.92],\n",
       "       [ 98.92, 107.8 ],\n",
       "       [107.8 , 116.24],\n",
       "       [116.24, 147.86],\n",
       "       [147.86, 166.52],\n",
       "       [166.52, 175.44],\n",
       "       [175.44, 184.  ],\n",
       "       [184.  , 217.16],\n",
       "       [217.16, 239.62],\n",
       "       [239.62, 250.  ],\n",
       "       [250.  , 283.28],\n",
       "       [283.28, 305.68]])"
      ]
     },
     "execution_count": 39,
     "metadata": {},
     "output_type": "execute_result"
    }
   ],
   "source": [
    "ref_intervals2"
   ]
  },
  {
   "cell_type": "code",
   "execution_count": null,
   "id": "ca9bcd79",
   "metadata": {},
   "outputs": [],
   "source": []
  }
 ],
 "metadata": {
  "kernelspec": {
   "display_name": "Python 3 (ipykernel)",
   "language": "python",
   "name": "python3"
  },
  "language_info": {
   "codemirror_mode": {
    "name": "ipython",
    "version": 3
   },
   "file_extension": ".py",
   "mimetype": "text/x-python",
   "name": "python",
   "nbconvert_exporter": "python",
   "pygments_lexer": "ipython3",
   "version": "3.8.12"
  }
 },
 "nbformat": 4,
 "nbformat_minor": 5
}
